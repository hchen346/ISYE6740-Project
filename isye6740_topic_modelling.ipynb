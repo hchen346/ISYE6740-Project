{
 "cells": [
  {
   "cell_type": "code",
   "execution_count": 1,
   "metadata": {
    "collapsed": true
   },
   "outputs": [],
   "source": [
    "import pandas as pd\n",
    "import numpy as np\n",
    "import matplotlib.pyplot as plt\n",
    "%matplotlib inline"
   ]
  },
  {
   "cell_type": "markdown",
   "metadata": {},
   "source": [
    "## financial data"
   ]
  },
  {
   "cell_type": "code",
   "execution_count": 2,
   "metadata": {
    "collapsed": true
   },
   "outputs": [],
   "source": [
    "yahoo = pd.read_csv('stocknews/DJIA_table.csv',index_col='Date')"
   ]
  },
  {
   "cell_type": "code",
   "execution_count": 3,
   "metadata": {
    "collapsed": false
   },
   "outputs": [
    {
     "data": {
      "text/html": [
       "<div>\n",
       "<table border=\"1\" class=\"dataframe\">\n",
       "  <thead>\n",
       "    <tr style=\"text-align: right;\">\n",
       "      <th></th>\n",
       "      <th>Open</th>\n",
       "      <th>High</th>\n",
       "      <th>Low</th>\n",
       "      <th>Close</th>\n",
       "      <th>Volume</th>\n",
       "      <th>Adj Close</th>\n",
       "    </tr>\n",
       "    <tr>\n",
       "      <th>Date</th>\n",
       "      <th></th>\n",
       "      <th></th>\n",
       "      <th></th>\n",
       "      <th></th>\n",
       "      <th></th>\n",
       "      <th></th>\n",
       "    </tr>\n",
       "  </thead>\n",
       "  <tbody>\n",
       "    <tr>\n",
       "      <th>2016-07-01</th>\n",
       "      <td>17924.240234</td>\n",
       "      <td>18002.380859</td>\n",
       "      <td>17916.910156</td>\n",
       "      <td>17949.369141</td>\n",
       "      <td>82160000</td>\n",
       "      <td>17949.369141</td>\n",
       "    </tr>\n",
       "    <tr>\n",
       "      <th>2016-06-30</th>\n",
       "      <td>17712.759766</td>\n",
       "      <td>17930.609375</td>\n",
       "      <td>17711.800781</td>\n",
       "      <td>17929.990234</td>\n",
       "      <td>133030000</td>\n",
       "      <td>17929.990234</td>\n",
       "    </tr>\n",
       "    <tr>\n",
       "      <th>2016-06-29</th>\n",
       "      <td>17456.019531</td>\n",
       "      <td>17704.509766</td>\n",
       "      <td>17456.019531</td>\n",
       "      <td>17694.679688</td>\n",
       "      <td>106380000</td>\n",
       "      <td>17694.679688</td>\n",
       "    </tr>\n",
       "    <tr>\n",
       "      <th>2016-06-28</th>\n",
       "      <td>17190.509766</td>\n",
       "      <td>17409.720703</td>\n",
       "      <td>17190.509766</td>\n",
       "      <td>17409.720703</td>\n",
       "      <td>112190000</td>\n",
       "      <td>17409.720703</td>\n",
       "    </tr>\n",
       "    <tr>\n",
       "      <th>2016-06-27</th>\n",
       "      <td>17355.210938</td>\n",
       "      <td>17355.210938</td>\n",
       "      <td>17063.080078</td>\n",
       "      <td>17140.240234</td>\n",
       "      <td>138740000</td>\n",
       "      <td>17140.240234</td>\n",
       "    </tr>\n",
       "  </tbody>\n",
       "</table>\n",
       "</div>"
      ],
      "text/plain": [
       "                    Open          High           Low         Close     Volume  \\\n",
       "Date                                                                            \n",
       "2016-07-01  17924.240234  18002.380859  17916.910156  17949.369141   82160000   \n",
       "2016-06-30  17712.759766  17930.609375  17711.800781  17929.990234  133030000   \n",
       "2016-06-29  17456.019531  17704.509766  17456.019531  17694.679688  106380000   \n",
       "2016-06-28  17190.509766  17409.720703  17190.509766  17409.720703  112190000   \n",
       "2016-06-27  17355.210938  17355.210938  17063.080078  17140.240234  138740000   \n",
       "\n",
       "               Adj Close  \n",
       "Date                      \n",
       "2016-07-01  17949.369141  \n",
       "2016-06-30  17929.990234  \n",
       "2016-06-29  17694.679688  \n",
       "2016-06-28  17409.720703  \n",
       "2016-06-27  17140.240234  "
      ]
     },
     "execution_count": 3,
     "metadata": {},
     "output_type": "execute_result"
    }
   ],
   "source": [
    "yahoo.head()"
   ]
  },
  {
   "cell_type": "code",
   "execution_count": 4,
   "metadata": {
    "collapsed": true
   },
   "outputs": [],
   "source": [
    "yahoo.sort_index(ascending=True, inplace=True)"
   ]
  },
  {
   "cell_type": "code",
   "execution_count": 5,
   "metadata": {
    "collapsed": false,
    "scrolled": true
   },
   "outputs": [
    {
     "data": {
      "text/html": [
       "<div>\n",
       "<table border=\"1\" class=\"dataframe\">\n",
       "  <thead>\n",
       "    <tr style=\"text-align: right;\">\n",
       "      <th></th>\n",
       "      <th>Open</th>\n",
       "      <th>High</th>\n",
       "      <th>Low</th>\n",
       "      <th>Close</th>\n",
       "      <th>Volume</th>\n",
       "      <th>Adj Close</th>\n",
       "    </tr>\n",
       "    <tr>\n",
       "      <th>Date</th>\n",
       "      <th></th>\n",
       "      <th></th>\n",
       "      <th></th>\n",
       "      <th></th>\n",
       "      <th></th>\n",
       "      <th></th>\n",
       "    </tr>\n",
       "  </thead>\n",
       "  <tbody>\n",
       "    <tr>\n",
       "      <th>2008-08-08</th>\n",
       "      <td>11432.089844</td>\n",
       "      <td>11759.959961</td>\n",
       "      <td>11388.040039</td>\n",
       "      <td>11734.320312</td>\n",
       "      <td>212830000</td>\n",
       "      <td>11734.320312</td>\n",
       "    </tr>\n",
       "    <tr>\n",
       "      <th>2008-08-11</th>\n",
       "      <td>11729.669922</td>\n",
       "      <td>11867.110352</td>\n",
       "      <td>11675.530273</td>\n",
       "      <td>11782.349609</td>\n",
       "      <td>183190000</td>\n",
       "      <td>11782.349609</td>\n",
       "    </tr>\n",
       "    <tr>\n",
       "      <th>2008-08-12</th>\n",
       "      <td>11781.700195</td>\n",
       "      <td>11782.349609</td>\n",
       "      <td>11601.519531</td>\n",
       "      <td>11642.469727</td>\n",
       "      <td>173590000</td>\n",
       "      <td>11642.469727</td>\n",
       "    </tr>\n",
       "    <tr>\n",
       "      <th>2008-08-13</th>\n",
       "      <td>11632.809570</td>\n",
       "      <td>11633.780273</td>\n",
       "      <td>11453.339844</td>\n",
       "      <td>11532.959961</td>\n",
       "      <td>182550000</td>\n",
       "      <td>11532.959961</td>\n",
       "    </tr>\n",
       "    <tr>\n",
       "      <th>2008-08-14</th>\n",
       "      <td>11532.070312</td>\n",
       "      <td>11718.280273</td>\n",
       "      <td>11450.889648</td>\n",
       "      <td>11615.929688</td>\n",
       "      <td>159790000</td>\n",
       "      <td>11615.929688</td>\n",
       "    </tr>\n",
       "  </tbody>\n",
       "</table>\n",
       "</div>"
      ],
      "text/plain": [
       "                    Open          High           Low         Close     Volume  \\\n",
       "Date                                                                            \n",
       "2008-08-08  11432.089844  11759.959961  11388.040039  11734.320312  212830000   \n",
       "2008-08-11  11729.669922  11867.110352  11675.530273  11782.349609  183190000   \n",
       "2008-08-12  11781.700195  11782.349609  11601.519531  11642.469727  173590000   \n",
       "2008-08-13  11632.809570  11633.780273  11453.339844  11532.959961  182550000   \n",
       "2008-08-14  11532.070312  11718.280273  11450.889648  11615.929688  159790000   \n",
       "\n",
       "               Adj Close  \n",
       "Date                      \n",
       "2008-08-08  11734.320312  \n",
       "2008-08-11  11782.349609  \n",
       "2008-08-12  11642.469727  \n",
       "2008-08-13  11532.959961  \n",
       "2008-08-14  11615.929688  "
      ]
     },
     "execution_count": 5,
     "metadata": {},
     "output_type": "execute_result"
    }
   ],
   "source": [
    "yahoo.head()"
   ]
  },
  {
   "cell_type": "code",
   "execution_count": 6,
   "metadata": {
    "collapsed": false
   },
   "outputs": [
    {
     "data": {
      "text/plain": [
       "<matplotlib.axes._subplots.AxesSubplot at 0x115ea09e8>"
      ]
     },
     "execution_count": 6,
     "metadata": {},
     "output_type": "execute_result"
    },
    {
     "data": {
      "image/png": "[encoded data removed]",
      "text/plain": [
       "<matplotlib.figure.Figure at 0x115e21e80>"
      ]
     },
     "metadata": {},
     "output_type": "display_data"
    }
   ],
   "source": [
    "yahoo.ix[:,['Adj Close']].plot()"
   ]
  },
  {
   "cell_type": "markdown",
   "metadata": {},
   "source": [
    " ## Reddit"
   ]
  },
  {
   "cell_type": "code",
   "execution_count": 8,
   "metadata": {
    "collapsed": false
   },
   "outputs": [],
   "source": [
    "reddit = pd.read_csv('stocknews/Combined_News_DJIA.csv',index_col=['Date'])\n",
    "\n",
    "# Using this split criteria, the train/test proportion is nearly 80/20\n",
    "train = reddit[reddit.index < '2015-01-01']\n",
    "test = reddit[reddit.index> '2014-12-31']"
   ]
  },
  {
   "cell_type": "code",
   "execution_count": 9,
   "metadata": {
    "collapsed": false
   },
   "outputs": [],
   "source": [
    "trainheadlines = []\n",
    "for row in range(0,len(train.index)):\n",
    "    trainheadlines.append(' '.join(str(x) for x in train.iloc[row,1:26]))"
   ]
  },
  {
   "cell_type": "code",
   "execution_count": 10,
   "metadata": {
    "collapsed": false
   },
   "outputs": [],
   "source": [
    "testheadlines = []\n",
    "for row in range(0,len(test.index)):\n",
    "    testheadlines.append(' '.join(str(x) for x in test.iloc[row,1:26]))\n"
   ]
  },
  {
   "cell_type": "code",
   "execution_count": 71,
   "metadata": {
    "collapsed": true
   },
   "outputs": [],
   "source": [
    "y_train = reddit.values[:,0][:len(train)].astype('int')\n",
    "y_test = reddit.values[:,0][len(train):].astype('int')"
   ]
  },
  {
   "cell_type": "code",
   "execution_count": null,
   "metadata": {
    "collapsed": true
   },
   "outputs": [],
   "source": []
  },
  {
   "cell_type": "markdown",
   "metadata": {},
   "source": [
    "## Topic Modeling"
   ]
  },
  {
   "cell_type": "code",
   "execution_count": 11,
   "metadata": {
    "collapsed": true
   },
   "outputs": [],
   "source": [
    "# Import various modules for string cleaning\n",
    "from bs4 import BeautifulSoup\n",
    "import re\n",
    "from nltk.corpus import stopwords\n",
    "\n",
    "def review_to_wordlist( review, remove_stopwords=True ):\n",
    "    # Function to convert a document to a sequence of words,\n",
    "    # optionally removing stop words.  Returns a list of words.\n",
    "    #\n",
    "    # 1. Remove HTML\n",
    "    review_text = BeautifulSoup(review,'lxml').get_text()\n",
    "    #  \n",
    "    # 2. Remove non-letters\n",
    "    review_text = re.sub(\"[^a-zA-Z]\",\" \", review_text)\n",
    "    #\n",
    "    # 3. Convert words to lower case and split them\n",
    "    words = review_text.lower().split()\n",
    "    #\n",
    "    # 4. Optionally remove stop words (false by default)\n",
    "    if remove_stopwords:\n",
    "        stops = set(stopwords.words(\"english\"))\n",
    "        stops.add('b')\n",
    "        words = [w for w in words if not w in stops]\n",
    "    #\n",
    "    # 5. Return a list of words\n",
    "    return(words)"
   ]
  },
  {
   "cell_type": "code",
   "execution_count": 12,
   "metadata": {
    "collapsed": false
   },
   "outputs": [],
   "source": [
    "train_vob = []  # Initialize an empty list of sentences\n",
    "for review in trainheadlines:\n",
    "    train_vob.append( review_to_wordlist(review, True))\n",
    "\n"
   ]
  },
  {
   "cell_type": "code",
   "execution_count": 13,
   "metadata": {
    "collapsed": false
   },
   "outputs": [],
   "source": [
    "test_vob = []\n",
    "for review in testheadlines:\n",
    "    test_vob.append( review_to_wordlist(review, True))"
   ]
  },
  {
   "cell_type": "code",
   "execution_count": 15,
   "metadata": {
    "collapsed": false
   },
   "outputs": [],
   "source": [
    "from gensim import corpora\n",
    "dictionary = corpora.Dictionary(train_vob + test_vob)"
   ]
  },
  {
   "cell_type": "code",
   "execution_count": 16,
   "metadata": {
    "collapsed": false
   },
   "outputs": [],
   "source": [
    "corpus = [dictionary.doc2bow(doc) for doc in train_vob + test_vob]"
   ]
  },
  {
   "cell_type": "code",
   "execution_count": 23,
   "metadata": {
    "collapsed": true
   },
   "outputs": [],
   "source": [
    "import gensim\n",
    "Lda = gensim.models.ldamodel.LdaModel"
   ]
  },
  {
   "cell_type": "code",
   "execution_count": 18,
   "metadata": {
    "collapsed": false
   },
   "outputs": [
    {
     "ename": "NameError",
     "evalue": "name 'ladmoel_2p' is not defined",
     "output_type": "error",
     "traceback": [
      "\u001b[0;31m---------------------------------------------------------------------------\u001b[0m",
      "\u001b[0;31mNameError\u001b[0m                                 Traceback (most recent call last)",
      "\u001b[0;32m<ipython-input-18-57a603ba6a17>\u001b[0m in \u001b[0;36m<module>\u001b[0;34m()\u001b[0m\n\u001b[1;32m      1\u001b[0m \u001b[0;31m# 2 topics\u001b[0m\u001b[0;34m\u001b[0m\u001b[0;34m\u001b[0m\u001b[0m\n\u001b[1;32m      2\u001b[0m \u001b[0mldamodel_2p\u001b[0m \u001b[0;34m=\u001b[0m \u001b[0mLda\u001b[0m\u001b[0;34m(\u001b[0m\u001b[0mcorpus\u001b[0m\u001b[0;34m,\u001b[0m \u001b[0mnum_topics\u001b[0m\u001b[0;34m=\u001b[0m\u001b[0;36m2\u001b[0m\u001b[0;34m,\u001b[0m \u001b[0mid2word\u001b[0m \u001b[0;34m=\u001b[0m \u001b[0mdictionary\u001b[0m\u001b[0;34m,\u001b[0m \u001b[0mpasses\u001b[0m\u001b[0;34m=\u001b[0m\u001b[0;36m20\u001b[0m\u001b[0;34m)\u001b[0m\u001b[0;34m\u001b[0m\u001b[0m\n\u001b[0;32m----> 3\u001b[0;31m \u001b[0mladmoel_2p\u001b[0m\u001b[0;34m.\u001b[0m\u001b[0msave\u001b[0m\u001b[0;34m(\u001b[0m\u001b[0;34m'ladmodel_2p'\u001b[0m\u001b[0;34m)\u001b[0m\u001b[0;34m\u001b[0m\u001b[0m\n\u001b[0m",
      "\u001b[0;31mNameError\u001b[0m: name 'ladmoel_2p' is not defined"
     ]
    }
   ],
   "source": [
    "# 2 topics\n",
    "ldamodel_2p = Lda(corpus, num_topics=2, id2word = dictionary, passes=20)\n"
   ]
  },
  {
   "cell_type": "code",
   "execution_count": 20,
   "metadata": {
    "collapsed": false
   },
   "outputs": [],
   "source": [
    "ldamodel_2p.save('ldamodel_2p')"
   ]
  },
  {
   "cell_type": "code",
   "execution_count": 220,
   "metadata": {
    "collapsed": false
   },
   "outputs": [
    {
     "name": "stdout",
     "output_type": "stream",
     "text": [
      "0.005*\"us\" + 0.004*\"new\" + 0.004*\"china\" + 0.004*\"government\" + 0.003*\"says\" + 0.003*\"police\" + 0.003*\"world\" + 0.003*\"u\" + 0.003*\"people\" + 0.003*\"israel\"\n"
     ]
    }
   ],
   "source": [
    "print(ldamodel_2p.print_topic(0,topn=10))"
   ]
  },
  {
   "cell_type": "code",
   "execution_count": null,
   "metadata": {
    "collapsed": true
   },
   "outputs": [],
   "source": []
  },
  {
   "cell_type": "code",
   "execution_count": 219,
   "metadata": {
    "collapsed": false
   },
   "outputs": [
    {
     "data": {
      "text/html": [
       "\n",
       "<link rel=\"stylesheet\" type=\"text/css\" href=\"https://cdn.rawgit.com/bmabey/pyLDAvis/files/ldavis.v1.0.0.css\">\n",
       "\n",
       "\n",
       "<div id=\"ldavis_el141649017427767345820260\"></div>\n",
       "<script type=\"text/javascript\">\n",
       "\n",
       "var ldavis_el141649017427767345820260_data = {\"mdsDat\": {\"Freq\": [52.092496125564736, 47.90750387443526], \"cluster\": [1, 1], \"topics\": [1, 2], \"x\": [0.02061991699913564, -0.02061991699913564], \"y\": [0.0, 0.0]}, \"tinfo\": {\"Category\": [\"Default\", \"Default\", \"Default\", \"Default\", \"Default\", \"Topic1\", \"Topic1\", \"Topic1\", \"Topic1\", \"Topic1\", \"Topic1\", \"Topic1\", \"Topic1\", \"Topic1\", \"Topic1\", \"Topic1\", \"Topic1\", \"Topic1\", \"Topic1\", \"Topic1\", \"Topic1\", \"Topic1\", \"Topic1\", \"Topic1\", \"Topic1\", \"Topic2\", \"Topic2\", \"Topic2\", \"Topic2\", \"Topic2\", \"Topic2\", \"Topic2\", \"Topic2\", \"Topic2\", \"Topic2\", \"Topic2\", \"Topic2\", \"Topic2\", \"Topic2\", \"Topic2\"], \"Freq\": [657.0, 635.0, 572.0, 1610.0, 285.0, 33.572549023255206, 24.98092151422736, 15.690372499344281, 18.43182941014303, 13.817423094610389, 272.7726238768461, 166.6239772010263, 41.75991069278311, 515.9954201175783, 224.47825529450537, 142.07089406046904, 672.9480103047422, 770.9318716376213, 789.4604122014331, 1509.3782160098049, 1123.5520163264769, 1131.2046825677894, 1041.6391510823055, 1160.5396254179532, 1052.74659565004, 44.149606613850814, 25.566567216188353, 63.678674970320536, 109.11292324936969, 637.145384486597, 585.2336382194284, 192.77544385587953, 158.49291440998823, 1090.6382275241308, 620.7402493079837, 1369.4828494592566, 1174.2522342646932, 1376.775841454721, 1110.4020320330908, 1135.1504295154532], \"Term\": [\"isis\", \"ukraine\", \"wikileaks\", \"russia\", \"assange\", \"manning\", \"bradley\", \"bonds\", \"quiet\", \"prism\", \"assange\", \"julian\", \"breivik\", \"wikileaks\", \"fukushima\", \"murdoch\", \"news\", \"korea\", \"north\", \"us\", \"government\", \"china\", \"police\", \"new\", \"says\", \"hebdo\", \"ruble\", \"kiev\", \"crimea\", \"isis\", \"ukraine\", \"ebola\", \"ukrainian\", \"russia\", \"gaza\", \"says\", \"israel\", \"us\", \"world\", \"new\"], \"Total\": [657.0, 635.0, 572.0, 1610.0, 285.0, 34.42824591175289, 25.816622235745253, 16.254028706505792, 19.12175619476022, 14.341168919917703, 285.8062840743586, 174.91747359267686, 43.965483237875645, 572.8031912993491, 265.0632470259013, 166.87388942858144, 962.5266370219026, 1153.629656694063, 1208.2800445918535, 2886.154057464526, 1968.5578953611957, 2022.0234012929886, 1862.9006595364804, 2295.6900549334064, 2422.2294451092966, 44.89253974787086, 26.191722770791937, 65.48489988244391, 112.26101685304907, 657.7112598961354, 635.0100110042597, 208.85347091610586, 170.4271015168931, 1610.6403846262162, 871.4857476971795, 2422.2294451092966, 2051.7177435888916, 2886.154057464526, 2141.254572541501, 2295.6900549334064], \"loglift\": [5.0, 4.0, 3.0, 2.0, 1.0, 0.627, 0.6192, 0.6169, 0.6154, 0.6149, 0.6055, 0.6036, 0.6007, 0.5477, 0.486, 0.4912, 0.2943, 0.2491, 0.2265, 0.0039, 0.0913, 0.0713, 0.0708, -0.03, -0.1811, 0.7192, 0.7117, 0.7079, 0.7075, 0.7041, 0.6543, 0.6558, 0.6633, 0.346, 0.3966, 0.1656, 0.1779, -0.0043, 0.0792, 0.0316], \"logprob\": [5.0, 4.0, 3.0, 2.0, 1.0, -9.1099, -9.4055, -9.8705, -9.7095, -9.9977, -7.0149, -7.5078, -8.8916, -6.3775, -7.2098, -7.6673, -6.1119, -5.976, -5.9522, -5.3041, -5.5993, -5.5925, -5.675, -5.5669, -5.6644, -8.7522, -9.2985, -8.386, -7.8474, -6.0828, -6.1678, -7.2783, -7.4741, -5.5453, -6.1089, -5.3176, -5.4714, -5.3123, -5.5274, -5.5053]}, \"token.table\": {\"Topic\": [1, 2, 1, 2, 1, 2, 1, 2, 1, 2, 1, 2, 1, 2, 1, 2, 1, 2, 1, 2, 1, 2, 1, 2, 1, 2, 1, 2, 1, 2, 1, 2, 1, 2, 1, 2, 1, 2, 1, 2, 1, 2, 1, 2, 1, 2, 1, 2, 1, 2, 1, 2, 1, 2, 1, 2, 1, 2, 1, 2, 1, 2, 1, 2], \"Freq\": [0.9551924335189679, 0.045485353977093704, 0.9843713388789503, 0.061523208679934396, 0.9683683547642971, 0.038734734190571884, 0.9552948564845432, 0.04549023126116872, 0.5593407075688535, 0.4406477192253302, 0.026723435116635667, 0.9709514759044292, 0.07660873400771502, 0.9240928539680625, 0.8450813249794351, 0.15468006394712874, 0.2880138896857973, 0.7125761971907574, 0.570976349056661, 0.4292482339438421, 0.02227541604053327, 0.9801183057834638, 0.03192890449118399, 0.9685101028992478, 0.4274467103189058, 0.5722034639844874, 0.9547359481585359, 0.04573585380400172, 0.030541392039849288, 0.9773245452751772, 0.6683253984727141, 0.33199562595985666, 0.9875612044583806, 0.029045917778187665, 0.8509419927002604, 0.14981373110920077, 0.5057302912059174, 0.49440472051569007, 0.6992014289415304, 0.30129036313973817, 0.6529943149615761, 0.3467739137755391, 0.5593427618729098, 0.440710563817331, 0.9762105221810845, 0.06972932301293461, 0.9413361312980444, 0.052296451738780246, 0.038180000939654256, 0.9926800244310107, 0.322852950269639, 0.677370324508031, 0.43472347432903335, 0.5651818009083064, 0.07873891613287431, 0.9212453187546294, 0.07041133653740239, 0.9270825977424647, 0.5228411131059477, 0.4771055087785884, 0.9008329699237595, 0.09951061877064785, 0.4814934259667611, 0.5183876846004897], \"Term\": [\"assange\", \"assange\", \"bonds\", \"bonds\", \"bradley\", \"bradley\", \"breivik\", \"breivik\", \"china\", \"china\", \"crimea\", \"crimea\", \"ebola\", \"ebola\", \"fukushima\", \"fukushima\", \"gaza\", \"gaza\", \"government\", \"government\", \"hebdo\", \"hebdo\", \"isis\", \"isis\", \"israel\", \"israel\", \"julian\", \"julian\", \"kiev\", \"kiev\", \"korea\", \"korea\", \"manning\", \"manning\", \"murdoch\", \"murdoch\", \"new\", \"new\", \"news\", \"news\", \"north\", \"north\", \"police\", \"police\", \"prism\", \"prism\", \"quiet\", \"quiet\", \"ruble\", \"ruble\", \"russia\", \"russia\", \"says\", \"says\", \"ukraine\", \"ukraine\", \"ukrainian\", \"ukrainian\", \"us\", \"us\", \"wikileaks\", \"wikileaks\", \"world\", \"world\"]}, \"R\": 5, \"lambda.step\": 0.01, \"plot.opts\": false, \"topic.order\": [1, 2]};\n",
       "\n",
       "function LDAvis_load_lib(url, callback){\n",
       "  var s = document.createElement('script');\n",
       "  s.src = url;\n",
       "  s.async = true;\n",
       "  s.onreadystatechange = s.onload = callback;\n",
       "  s.onerror = function(){console.warn(\"failed to load library \" + url);};\n",
       "  document.getElementsByTagName(\"head\")[0].appendChild(s);\n",
       "}\n",
       "\n",
       "if(typeof(LDAvis) !== \"undefined\"){\n",
       "   // already loaded: just create the visualization\n",
       "   !function(LDAvis){\n",
       "       new LDAvis(\"#\" + \"ldavis_el141649017427767345820260\", ldavis_el141649017427767345820260_data);\n",
       "   }(LDAvis);\n",
       "}else if(typeof define === \"function\" && define.amd){\n",
       "   // require.js is available: use it to load d3/LDAvis\n",
       "   require.config({paths: {d3: \"https://cdnjs.cloudflare.com/ajax/libs/d3/3.5.5/d3.min\"}});\n",
       "   require([\"d3\"], function(d3){\n",
       "      window.d3 = d3;\n",
       "      LDAvis_load_lib(\"https://cdn.rawgit.com/bmabey/pyLDAvis/files/ldavis.v1.0.0.js\", function(){\n",
       "        new LDAvis(\"#\" + \"ldavis_el141649017427767345820260\", ldavis_el141649017427767345820260_data);\n",
       "      });\n",
       "    });\n",
       "}else{\n",
       "    // require.js not available: dynamically load d3 & LDAvis\n",
       "    LDAvis_load_lib(\"https://cdnjs.cloudflare.com/ajax/libs/d3/3.5.5/d3.min.js\", function(){\n",
       "         LDAvis_load_lib(\"https://cdn.rawgit.com/bmabey/pyLDAvis/files/ldavis.v1.0.0.js\", function(){\n",
       "                 new LDAvis(\"#\" + \"ldavis_el141649017427767345820260\", ldavis_el141649017427767345820260_data);\n",
       "            })\n",
       "         });\n",
       "}\n",
       "</script>"
      ],
      "text/plain": [
       "<IPython.core.display.HTML object>"
      ]
     },
     "execution_count": 219,
     "metadata": {},
     "output_type": "execute_result"
    }
   ],
   "source": [
    "import pyLDAvis.gensim\n",
    "pyLDAvis.display(pyLDAvis.gensim.prepare(ldamodel_2p, corpus, dictionary,R=5,plot_opts=False))"
   ]
  },
  {
   "cell_type": "code",
   "execution_count": 61,
   "metadata": {
    "collapsed": false
   },
   "outputs": [],
   "source": [
    "# 20 topics\n",
    "ldamodel1 = Lda(corpus, num_topics=20, id2word = dictionary, passes=20)\n",
    "\n",
    "ldamodel1.save('ldamodel1')"
   ]
  },
  {
   "cell_type": "code",
   "execution_count": 24,
   "metadata": {
    "collapsed": false
   },
   "outputs": [],
   "source": [
    "ldamodel_20p = Lda.load('ldamodel1')"
   ]
  },
  {
   "cell_type": "code",
   "execution_count": 316,
   "metadata": {
    "collapsed": true
   },
   "outputs": [],
   "source": [
    "# 10 topics\n",
    "ldamodel2 = Lda(corpus, num_topics=10, id2word = dictionary, passes=20)\n",
    "\n",
    "ldamodel2.save('ldamodel2')"
   ]
  },
  {
   "cell_type": "code",
   "execution_count": 25,
   "metadata": {
    "collapsed": true
   },
   "outputs": [],
   "source": [
    "ldamodel_10p = Lda.load('ldamodel2')"
   ]
  },
  {
   "cell_type": "code",
   "execution_count": 578,
   "metadata": {
    "collapsed": true
   },
   "outputs": [],
   "source": [
    "# 30 topics\n",
    "ldamodel3 = Lda(corpus, num_topics=30, id2word = dictionary, passes=20)\n",
    "\n",
    "ldamodel3.save('ldamodel3')"
   ]
  },
  {
   "cell_type": "code",
   "execution_count": 26,
   "metadata": {
    "collapsed": true
   },
   "outputs": [],
   "source": [
    "ldamodel_30p = Lda.load('ldamodel3')"
   ]
  },
  {
   "cell_type": "code",
   "execution_count": 27,
   "metadata": {
    "collapsed": true
   },
   "outputs": [],
   "source": [
    "train_doc = [dictionary.doc2bow(doc) for doc in train_vob]\n",
    "test_doc = [dictionary.doc2bow(doc) for doc in test_vob]"
   ]
  },
  {
   "cell_type": "code",
   "execution_count": null,
   "metadata": {
    "collapsed": true
   },
   "outputs": [],
   "source": []
  },
  {
   "cell_type": "markdown",
   "metadata": {},
   "source": [
    "## Four data sets 2/10/20/30 topics"
   ]
  },
  {
   "cell_type": "code",
   "execution_count": 30,
   "metadata": {
    "collapsed": true
   },
   "outputs": [],
   "source": [
    "X_train2p=np.zeros((len(train_doc),2))\n",
    "for i in range(len(train_doc)):\n",
    "    for it in ldamodel_2p[train_doc[i]]:\n",
    "        X_train2p[i,it[0]]=it[1]"
   ]
  },
  {
   "cell_type": "code",
   "execution_count": 34,
   "metadata": {
    "collapsed": true
   },
   "outputs": [],
   "source": [
    "X_test2p=np.zeros((len(test_doc),2))\n",
    "for i in range(len(test_doc)):\n",
    "    for it in ldamodel_2p[test_doc[i]]:\n",
    "        X_test2p[i,it[0]]=it[1]"
   ]
  },
  {
   "cell_type": "code",
   "execution_count": 32,
   "metadata": {
    "collapsed": false
   },
   "outputs": [],
   "source": [
    "X_train10p=np.zeros((len(train_doc),10))\n",
    "for i in range(len(train_doc)):\n",
    "    for it in ldamodel_10p[train_doc[i]]:\n",
    "        X_train10p[i,it[0]]=it[1]"
   ]
  },
  {
   "cell_type": "code",
   "execution_count": 33,
   "metadata": {
    "collapsed": true
   },
   "outputs": [],
   "source": [
    "X_test10p=np.zeros((len(test_doc),10))\n",
    "for i in range(len(test_doc)):\n",
    "    for it in ldamodel_10p[test_doc[i]]:\n",
    "        X_test10p[i,it[0]]=it[1]"
   ]
  },
  {
   "cell_type": "code",
   "execution_count": 35,
   "metadata": {
    "collapsed": false
   },
   "outputs": [],
   "source": [
    "X_train20p=np.zeros((len(train_doc),20))\n",
    "for i in range(len(train_doc)):\n",
    "    for it in ldamodel_20p[train_doc[i]]:\n",
    "        X_train20p[i,it[0]]=it[1]"
   ]
  },
  {
   "cell_type": "code",
   "execution_count": 36,
   "metadata": {
    "collapsed": true
   },
   "outputs": [],
   "source": [
    "X_test20p=np.zeros((len(test_doc),20))\n",
    "for i in range(len(test_doc)):\n",
    "    for it in ldamodel_20p[test_doc[i]]:\n",
    "        X_test20p[i,it[0]]=it[1]"
   ]
  },
  {
   "cell_type": "code",
   "execution_count": 37,
   "metadata": {
    "collapsed": false
   },
   "outputs": [],
   "source": [
    "X_train30p=np.zeros((len(train_doc),30))\n",
    "for i in range(len(train_doc)):\n",
    "    for it in ldamodel_30p[train_doc[i]]:\n",
    "        X_train30p[i,it[0]]=it[1]"
   ]
  },
  {
   "cell_type": "code",
   "execution_count": 38,
   "metadata": {
    "collapsed": true
   },
   "outputs": [],
   "source": [
    "X_test30p=np.zeros((len(test_doc),30))\n",
    "for i in range(len(test_doc)):\n",
    "    for it in ldamodel_30p[test_doc[i]]:\n",
    "        X_test30p[i,it[0]]=it[1]"
   ]
  },
  {
   "cell_type": "markdown",
   "metadata": {
    "collapsed": true
   },
   "source": [
    "### logistic Regression"
   ]
  },
  {
   "cell_type": "code",
   "execution_count": 266,
   "metadata": {
    "collapsed": false
   },
   "outputs": [
    {
     "name": "stdout",
     "output_type": "stream",
     "text": [
      "\n",
      "2 topics\n",
      "0.498291890681\n",
      "0.507936507937\n",
      "\n",
      "10 topics\n",
      "0.50966061828\n",
      "0.507936507937\n",
      "\n",
      "20 topics\n",
      "0.510976702509\n",
      "0.5\n",
      "\n",
      "30 topics\n",
      "0.510640681004\n",
      "0.515873015873\n"
     ]
    }
   ],
   "source": [
    "\n",
    "print()\n",
    "print('2 topics')\n",
    "print(roc_auc_score(y_test, LogisticRegression().fit(X_train2p,y_train).predict_proba(X_test2p)[:,1]))\n",
    "print(accuracy_score(LogisticRegression().fit(X_train2p,y_train).predict(X_test2p),y_test))\n",
    "\n",
    "print()\n",
    "print('10 topics')\n",
    "print(roc_auc_score(y_test, LogisticRegression().fit(X_train10p,y_train).predict_proba(X_test10p)[:,1]))\n",
    "print(accuracy_score(LogisticRegression().fit(X_train10p,y_train).predict(X_test10p),y_test))\n",
    "\n",
    "print()\n",
    "print('20 topics')\n",
    "print(roc_auc_score(y_test, LogisticRegression().fit(X_train20p,y_train).predict_proba(X_test20p)[:,1]))\n",
    "print(accuracy_score(LogisticRegression().fit(X_train20p,y_train).predict(X_test20p),y_test))\n",
    "\n",
    "print()\n",
    "print('30 topics')\n",
    "print(roc_auc_score(y_test, LogisticRegression().fit(X_train30p,y_train).predict_proba(X_test30p)[:,1]))\n",
    "print(accuracy_score(LogisticRegression().fit(X_train30p,y_train).predict(X_test30p),y_test))"
   ]
  },
  {
   "cell_type": "markdown",
   "metadata": {},
   "source": [
    "### SVM"
   ]
  },
  {
   "cell_type": "code",
   "execution_count": 267,
   "metadata": {
    "collapsed": false
   },
   "outputs": [
    {
     "name": "stdout",
     "output_type": "stream",
     "text": [
      "\n",
      "2 topics\n",
      "0.502352150538\n",
      "0.507936507937\n",
      "\n",
      "10 topics\n",
      "0.486503136201\n",
      "0.507936507937\n",
      "\n",
      "20 topics\n",
      "0.525313620072\n",
      "0.507936507937\n",
      "\n",
      "30 topics\n",
      "0.449372759857\n",
      "0.507936507937\n"
     ]
    }
   ],
   "source": [
    "# SVM\n",
    "print()\n",
    "print('2 topics')\n",
    "print(roc_auc_score(y_test, SVC(probability=True).fit(X_train2p,y_train).predict_proba(X_test2p)[:,1]))\n",
    "print(accuracy_score(SVC(probability=True).fit(X_train2p,y_train).predict(X_test2p),y_test))\n",
    "\n",
    "print()\n",
    "print('10 topics')\n",
    "print(roc_auc_score(y_test, SVC(probability=True).fit(X_train10p,y_train).predict_proba(X_test10p)[:,1]))\n",
    "print(accuracy_score(SVC(probability=True).fit(X_train10p,y_train).predict(X_test10p),y_test))\n",
    "\n",
    "print()\n",
    "print('20 topics')\n",
    "print(roc_auc_score(y_test, SVC(probability=True).fit(X_train20p,y_train).predict_proba(X_test20p)[:,1]))\n",
    "print(accuracy_score(SVC(probability=True).fit(X_train20p,y_train).predict(X_test20p),y_test))\n",
    "\n",
    "print()\n",
    "print('30 topics')\n",
    "print(roc_auc_score(y_test, SVC(probability=True).fit(X_train30p,y_train).predict_proba(X_test30p)[:,1]))\n",
    "print(accuracy_score(SVC(probability=True).fit(X_train30p,y_train).predict(X_test30p),y_test))"
   ]
  },
  {
   "cell_type": "markdown",
   "metadata": {},
   "source": [
    "### Random Forest"
   ]
  },
  {
   "cell_type": "code",
   "execution_count": 269,
   "metadata": {
    "collapsed": false
   },
   "outputs": [
    {
     "name": "stdout",
     "output_type": "stream",
     "text": [
      "\n",
      "2 topics\n",
      "0.511900761649\n",
      "0.510582010582\n",
      "\n",
      "10 topics\n",
      "0.474308355735\n",
      "0.489417989418\n",
      "\n",
      "20 topics\n",
      "0.455393145161\n",
      "0.465608465608\n",
      "\n",
      "30 topics\n",
      "0.477766577061\n",
      "0.468253968254\n"
     ]
    }
   ],
   "source": [
    "# Random Forest\n",
    "print()\n",
    "print('2 topics')\n",
    "print(roc_auc_score(y_test, RandomForestClassifier(random_state=0).fit(X_train2p,y_train).predict_proba(X_test2p)[:,1]))\n",
    "print(accuracy_score(RandomForestClassifier(random_state=0).fit(X_train2p,y_train).predict(X_test2p),y_test))\n",
    "\n",
    "print()\n",
    "print('10 topics')\n",
    "print(roc_auc_score(y_test, RandomForestClassifier(random_state=0).fit(X_train10p,y_train).predict_proba(X_test10p)[:,1]))\n",
    "print(accuracy_score(RandomForestClassifier(random_state=0).fit(X_train10p,y_train).predict(X_test10p),y_test))\n",
    "\n",
    "print()\n",
    "print('20 topics')\n",
    "print(roc_auc_score(y_test, RandomForestClassifier(random_state=0).fit(X_train20p,y_train).predict_proba(X_test20p)[:,1]))\n",
    "print(accuracy_score(RandomForestClassifier(random_state=0).fit(X_train20p,y_train).predict(X_test20p),y_test))\n",
    "\n",
    "print()\n",
    "print('30 topics')\n",
    "print(roc_auc_score(y_test, RandomForestClassifier(random_state=0).fit(X_train30p,y_train).predict_proba(X_test30p)[:,1]))\n",
    "print(accuracy_score(RandomForestClassifier(random_state=0).fit(X_train30p,y_train).predict(X_test30p),y_test))"
   ]
  },
  {
   "cell_type": "markdown",
   "metadata": {},
   "source": [
    "### Gradient Boost"
   ]
  },
  {
   "cell_type": "code",
   "execution_count": 270,
   "metadata": {
    "collapsed": false
   },
   "outputs": [
    {
     "name": "stdout",
     "output_type": "stream",
     "text": [
      "\n",
      "2 topics\n",
      "0.533994175627\n",
      "0.539682539683\n",
      "\n",
      "10 topics\n",
      "0.484711021505\n",
      "0.486772486772\n",
      "\n",
      "20 topics\n",
      "0.484459005376\n",
      "0.52380952381\n",
      "\n",
      "30 topics\n",
      "0.476072468638\n",
      "0.513227513228\n"
     ]
    }
   ],
   "source": [
    "# GBM\n",
    "print()\n",
    "print('2 topics')\n",
    "print(roc_auc_score(y_test, GradientBoostingClassifier(random_state=0).fit(X_train2p,y_train).predict_proba(X_test2p)[:,1]))\n",
    "print(accuracy_score(GradientBoostingClassifier(random_state=0).fit(X_train2p,y_train).predict(X_test2p),y_test))\n",
    "\n",
    "print()\n",
    "print('10 topics')\n",
    "print(roc_auc_score(y_test, GradientBoostingClassifier(random_state=0).fit(X_train10p,y_train).predict_proba(X_test10p)[:,1]))\n",
    "print(accuracy_score(GradientBoostingClassifier(random_state=0).fit(X_train10p,y_train).predict(X_test10p),y_test))\n",
    "\n",
    "print()\n",
    "print('20 topics')\n",
    "print(roc_auc_score(y_test, GradientBoostingClassifier(random_state=0).fit(X_train20p,y_train).predict_proba(X_test20p)[:,1]))\n",
    "print(accuracy_score(GradientBoostingClassifier(random_state=0).fit(X_train20p,y_train).predict(X_test20p),y_test))\n",
    "\n",
    "print()\n",
    "print('30 topics')\n",
    "print(roc_auc_score(y_test, GradientBoostingClassifier(random_state=0).fit(X_train30p,y_train).predict_proba(X_test30p)[:,1]))\n",
    "print(accuracy_score(GradientBoostingClassifier(random_state=0).fit(X_train30p,y_train).predict(X_test30p),y_test))"
   ]
  },
  {
   "cell_type": "markdown",
   "metadata": {},
   "source": [
    "### KNN"
   ]
  },
  {
   "cell_type": "code",
   "execution_count": 271,
   "metadata": {
    "collapsed": false
   },
   "outputs": [
    {
     "name": "stdout",
     "output_type": "stream",
     "text": [
      "\n",
      "2 topics\n",
      "0.536108310932\n",
      "0.518518518519\n",
      "\n",
      "10 topics\n",
      "0.487049171147\n",
      "0.507936507937\n",
      "\n",
      "20 topics\n",
      "0.460769489247\n",
      "0.484126984127\n",
      "\n",
      "30 topics\n",
      "0.507322468638\n",
      "0.502645502646\n"
     ]
    }
   ],
   "source": [
    "from sklearn.neighbors import KNeighborsClassifier\n",
    "# KNN \n",
    "print()\n",
    "print('2 topics')\n",
    "print(roc_auc_score(y_test, KNeighborsClassifier().fit(X_train2p,y_train).predict_proba(X_test2p)[:,1]))\n",
    "print(accuracy_score(KNeighborsClassifier().fit(X_train2p,y_train).predict(X_test2p),y_test))\n",
    "\n",
    "print()\n",
    "print('10 topics')\n",
    "print(roc_auc_score(y_test, KNeighborsClassifier().fit(X_train10p,y_train).predict_proba(X_test10p)[:,1]))\n",
    "print(accuracy_score(KNeighborsClassifier().fit(X_train10p,y_train).predict(X_test10p),y_test))\n",
    "\n",
    "print()\n",
    "print('20 topics')\n",
    "print(roc_auc_score(y_test, KNeighborsClassifier().fit(X_train20p,y_train).predict_proba(X_test20p)[:,1]))\n",
    "print(accuracy_score(KNeighborsClassifier().fit(X_train20p,y_train).predict(X_test20p),y_test))\n",
    "\n",
    "print()\n",
    "print('30 topics')\n",
    "print(roc_auc_score(y_test, KNeighborsClassifier().fit(X_train30p,y_train).predict_proba(X_test30p)[:,1]))\n",
    "print(accuracy_score(KNeighborsClassifier().fit(X_train30p,y_train).predict(X_test30p),y_test))"
   ]
  },
  {
   "cell_type": "markdown",
   "metadata": {},
   "source": [
    "### Tune random forest"
   ]
  },
  {
   "cell_type": "code",
   "execution_count": 74,
   "metadata": {
    "collapsed": false
   },
   "outputs": [],
   "source": [
    "from sklearn.model_selection import ParameterGrid\n",
    "from sklearn.metrics import accuracy_score, roc_auc_score, roc_curve,auc\n",
    "from sklearn.ensemble import RandomForestClassifier\n",
    "from sklearn.model_selection import TimeSeriesSplit\n",
    "from sklearn.metrics import confusion_matrix"
   ]
  },
  {
   "cell_type": "code",
   "execution_count": 264,
   "metadata": {
    "collapsed": false
   },
   "outputs": [],
   "source": [
    "def tune_rf(X,y,X_validation,y_validation,gen_plot=False):\n",
    "            \n",
    "    grid = ParameterGrid({\n",
    "                'min_samples_leaf':[1,3,5],\n",
    "                'n_estimators':[10,30]})\n",
    "    auc_all = []\n",
    "    models=[]\n",
    "    acc_all=[]\n",
    "    for params in grid:\n",
    "        randomforest = RandomForestClassifier(random_state=0,n_jobs=-1,bootstrap=False,**params)\n",
    "        tscv = TimeSeriesSplit(n_splits=3)\n",
    "        models.append(randomforest)\n",
    "        inner_acc=[]\n",
    "        inner_roc=[]\n",
    "        for train_index, test_index in tscv.split(X):\n",
    "            X_train, X_test = X[train_index], X[test_index]\n",
    "            y_train, y_test = y[train_index], y[test_index]\n",
    "            \n",
    "            ypred=randomforest.fit(X_train,y_train).predict_proba(X_test)[:,1]\n",
    "            ypred_c=randomforest.fit(X_train,y_train).predict(X_test)\n",
    "\n",
    "            acc = accuracy_score(y_test.ravel(),ypred_c.ravel())\n",
    "            inner_acc.append(acc)\n",
    "            fpr, tpr, _ = roc_curve(y_test.ravel(), ypred.ravel())\n",
    "            roc_auc = auc(fpr,tpr)\n",
    "            inner_roc.append(roc_auc)\n",
    "        \n",
    "        auc_all.append(np.mean(inner_roc))\n",
    "        acc_all.append(np.mean(inner_acc))\n",
    "\n",
    "    print(auc_all)\n",
    "    idx = np.argmax(auc_all)\n",
    "    best_params = grid[idx]    \n",
    "    estimator = models[idx]\n",
    "    print('Time Series Cross Validation:')\n",
    "    print('Best parameter: ' + str(best_params))\n",
    "    print('Best Accuracy:' + str(np.max(acc_all)))\n",
    "\n",
    "    print(estimator)\n",
    "    \n",
    "    \n",
    "    ypred=estimator.fit(X,y).predict_proba(X_validation)[:,1]\n",
    "    ypred_c= estimator.fit(X,y).predict(X_validation)\n",
    "    acc = accuracy_score(y_validation.ravel(),ypred_c.ravel())\n",
    "    fpr, tpr, _ = roc_curve(y_validation.ravel(), ypred.ravel())\n",
    "    roc_auc = auc(fpr,tpr)\n",
    "    print('Validation Set:')\n",
    "    print('Best Accuracy:' + str(acc))\n",
    "    print('Confusion Matrix:')\n",
    "    print(confusion_matrix(y_validation.ravel(),ypred_c.ravel()))\n",
    "\n",
    "\n",
    "    if gen_plot:\n",
    "        plt.figure()\n",
    "        plt.plot(fpr, tpr, color='darkorange',\n",
    "                 lw=2, label='ROC curve (area = %0.4f)' % roc_auc)\n",
    "        plt.plot([0, 1], [0, 1], 'k--')\n",
    "        plt.xlabel('False positive rate')\n",
    "        plt.ylabel('True positive rate')\n",
    "        plt.title('ROC curve')\n",
    "        plt.legend(loc='lower right')\n",
    "        plt.show()"
   ]
  },
  {
   "cell_type": "code",
   "execution_count": 103,
   "metadata": {
    "collapsed": false
   },
   "outputs": [
    {
     "name": "stdout",
     "output_type": "stream",
     "text": [
      "Time Series Cross Validation:\n",
      "Best parameter: {'n_estimators': 100, 'min_samples_leaf': 3, 'max_depth': 8}\n",
      "Best Accuracy:0.53399668325\n",
      "RandomForestClassifier(bootstrap=False, class_weight=None, criterion='gini',\n",
      "            max_depth=8, max_features='auto', max_leaf_nodes=None,\n",
      "            min_impurity_split=1e-07, min_samples_leaf=3,\n",
      "            min_samples_split=2, min_weight_fraction_leaf=0.0,\n",
      "            n_estimators=100, n_jobs=-1, oob_score=False, random_state=0,\n",
      "            verbose=0, warm_start=False)\n",
      "Validation Set:\n",
      "Best Accuracy:0.526455026455\n",
      "Confusion Matrix:\n",
      "[[ 47 139]\n",
      " [ 40 152]]\n"
     ]
    },
    {
     "data": {
      "image/png": "[encoded data removed]",
      "text/plain": [
       "<matplotlib.figure.Figure at 0x12c253be0>"
      ]
     },
     "metadata": {},
     "output_type": "display_data"
    }
   ],
   "source": [
    "# 2 topics\n",
    "tune_rf(X_train2p,y_train,X_test2p,y_test,True)"
   ]
  },
  {
   "cell_type": "code",
   "execution_count": 104,
   "metadata": {
    "collapsed": false
   },
   "outputs": [
    {
     "name": "stdout",
     "output_type": "stream",
     "text": [
      "Time Series Cross Validation:\n",
      "Best parameter: {'n_estimators': 50, 'min_samples_leaf': 3, 'max_depth': 8}\n",
      "Best Accuracy:0.519071310116\n",
      "RandomForestClassifier(bootstrap=False, class_weight=None, criterion='gini',\n",
      "            max_depth=8, max_features='auto', max_leaf_nodes=None,\n",
      "            min_impurity_split=1e-07, min_samples_leaf=3,\n",
      "            min_samples_split=2, min_weight_fraction_leaf=0.0,\n",
      "            n_estimators=50, n_jobs=-1, oob_score=False, random_state=0,\n",
      "            verbose=0, warm_start=False)\n",
      "Validation Set:\n",
      "Best Accuracy:0.5\n",
      "Confusion Matrix:\n",
      "[[ 11 175]\n",
      " [ 14 178]]\n"
     ]
    },
    {
     "data": {
      "image/png": "[encoded data removed]",
      "text/plain": [
       "<matplotlib.figure.Figure at 0x12c43c438>"
      ]
     },
     "metadata": {},
     "output_type": "display_data"
    }
   ],
   "source": [
    "# 10 topics\n",
    "tune_rf(X_train10p,y_train,X_test10p,y_test,True)"
   ]
  },
  {
   "cell_type": "code",
   "execution_count": 105,
   "metadata": {
    "collapsed": false
   },
   "outputs": [
    {
     "name": "stdout",
     "output_type": "stream",
     "text": [
      "Time Series Cross Validation:\n",
      "Best parameter: {'n_estimators': 100, 'min_samples_leaf': 5, 'max_depth': 2}\n",
      "Best Accuracy:0.530679933665\n",
      "RandomForestClassifier(bootstrap=False, class_weight=None, criterion='gini',\n",
      "            max_depth=2, max_features='auto', max_leaf_nodes=None,\n",
      "            min_impurity_split=1e-07, min_samples_leaf=5,\n",
      "            min_samples_split=2, min_weight_fraction_leaf=0.0,\n",
      "            n_estimators=100, n_jobs=-1, oob_score=False, random_state=0,\n",
      "            verbose=0, warm_start=False)\n",
      "Validation Set:\n",
      "Best Accuracy:0.513227513228\n",
      "Confusion Matrix:\n",
      "[[  4 182]\n",
      " [  2 190]]\n"
     ]
    },
    {
     "data": {
      "image/png": "[encoded data removed]",
      "text/plain": [
       "<matplotlib.figure.Figure at 0x12c3bb0b8>"
      ]
     },
     "metadata": {},
     "output_type": "display_data"
    }
   ],
   "source": [
    "# 20 topics\n",
    "tune_rf(X_train20p,y_train,X_test20p,y_test,True)"
   ]
  },
  {
   "cell_type": "code",
   "execution_count": 106,
   "metadata": {
    "collapsed": false
   },
   "outputs": [
    {
     "name": "stdout",
     "output_type": "stream",
     "text": [
      "Time Series Cross Validation:\n",
      "Best parameter: {'n_estimators': 50, 'min_samples_leaf': 3, 'max_depth': 2}\n",
      "Best Accuracy:0.54311774461\n",
      "RandomForestClassifier(bootstrap=False, class_weight=None, criterion='gini',\n",
      "            max_depth=2, max_features='auto', max_leaf_nodes=None,\n",
      "            min_impurity_split=1e-07, min_samples_leaf=3,\n",
      "            min_samples_split=2, min_weight_fraction_leaf=0.0,\n",
      "            n_estimators=50, n_jobs=-1, oob_score=False, random_state=0,\n",
      "            verbose=0, warm_start=False)\n",
      "Validation Set:\n",
      "Best Accuracy:0.507936507937\n",
      "Confusion Matrix:\n",
      "[[  2 184]\n",
      " [  2 190]]\n"
     ]
    },
    {
     "data": {
      "image/png": "[encoded data removed]",
      "text/plain": [
       "<matplotlib.figure.Figure at 0x123da0a90>"
      ]
     },
     "metadata": {},
     "output_type": "display_data"
    }
   ],
   "source": [
    "# 30 topics\n",
    "tune_rf(X_train30p,y_train,X_test30p,y_test,True)"
   ]
  },
  {
   "cell_type": "markdown",
   "metadata": {},
   "source": [
    "### Tune SVM"
   ]
  },
  {
   "cell_type": "code",
   "execution_count": 119,
   "metadata": {
    "collapsed": true
   },
   "outputs": [],
   "source": [
    "from sklearn.svm import SVC\n",
    "\n",
    "def tune_svm(X,y, X_validation, y_validation,gen_plot=False):\n",
    "   \n",
    "    grid = ParameterGrid({'C':np.linspace(0.01,10,100)})\n",
    "    auc_all = []\n",
    "    models=[]\n",
    "\n",
    "    acc_all=[]\n",
    "    for params in grid:\n",
    "        svm = SVC(random_state=1,probability=True, **params)\n",
    "        tscv = TimeSeriesSplit(n_splits=3)\n",
    "        models.append(svm)\n",
    "        inner_acc=[]\n",
    "        inner_roc=[]\n",
    "        for train_index, test_index in tscv.split(X):\n",
    "            X_train, X_test = X[train_index], X[test_index]\n",
    "            y_train, y_test = y[train_index], y[test_index]\n",
    "            \n",
    "            ypred=svm.fit(X_train,y_train).predict_proba(X_test)[:,1]\n",
    "            \n",
    "            acc = accuracy_score(y_test.ravel(),1*(ypred>0.5).ravel())\n",
    "            inner_acc.append(acc)\n",
    "            fpr, tpr, _ = roc_curve(y_test.ravel(), ypred.ravel())\n",
    "            roc_auc = auc(fpr,tpr)\n",
    "            inner_roc.append(roc_auc)\n",
    "\n",
    "        auc_all.append(np.mean(inner_roc))\n",
    "        acc_all.append(np.mean(inner_acc))\n",
    "\n",
    "\n",
    "    idx = np.argmax(auc_all)\n",
    "    best_params = grid[idx]    \n",
    "    estimator = models[idx]\n",
    "    print('Time Series Cross Validation:')\n",
    "    print('Best parameter: ' + str(best_params))\n",
    "    print('Best Accuracy:' + str(np.max(acc_all)))\n",
    "\n",
    "    print(estimator)\n",
    "    \n",
    "    \n",
    "    ypred=estimator.fit(X,y).predict_proba(X_validation)[:,1]\n",
    "    acc = accuracy_score(y_validation.ravel(),1*(ypred>0.5).ravel())\n",
    "    fpr, tpr, _ = roc_curve(y_validation.ravel(), ypred.ravel(), pos_label=1)\n",
    "    roc_auc = auc(fpr,tpr)\n",
    "    print('Validation:')\n",
    "    print('Best Accuracy:' + str(acc))\n",
    "\n",
    "\n",
    "    if gen_plot:\n",
    "        plt.figure()\n",
    "        plt.plot(fpr, tpr, color='darkorange',\n",
    "                 lw=2, label='ROC curve (area = %0.4f)' % roc_auc)\n",
    "        plt.plot([0, 1], [0, 1], 'k--')\n",
    "        plt.xlabel('False positive rate')\n",
    "        plt.ylabel('True positive rate')\n",
    "        plt.title('ROC curve')\n",
    "        plt.legend(loc='lower right')\n",
    "        plt.show()"
   ]
  },
  {
   "cell_type": "code",
   "execution_count": 114,
   "metadata": {
    "collapsed": false
   },
   "outputs": [
    {
     "name": "stdout",
     "output_type": "stream",
     "text": [
      "Time Series Cross Validation:\n",
      "Best parameter: {'C': 3.0372727272727271}\n",
      "Best Accuracy:0.544776119403\n",
      "SVC(C=3.0372727272727271, cache_size=200, class_weight=None, coef0=0.0,\n",
      "  decision_function_shape=None, degree=3, gamma='auto', kernel='rbf',\n",
      "  max_iter=-1, probability=True, random_state=1, shrinking=True, tol=0.001,\n",
      "  verbose=False)\n",
      "Validation:\n",
      "Best Accuracy:0.507936507937\n"
     ]
    },
    {
     "data": {
      "image/png": "[encoded data removed]",
      "text/plain": [
       "<matplotlib.figure.Figure at 0x12c08cf28>"
      ]
     },
     "metadata": {},
     "output_type": "display_data"
    }
   ],
   "source": [
    "# 2 topic\n",
    "tune_svm(X_train2p,y_train,X_test2p,y_test,True)"
   ]
  },
  {
   "cell_type": "code",
   "execution_count": 115,
   "metadata": {
    "collapsed": false
   },
   "outputs": [
    {
     "name": "stdout",
     "output_type": "stream",
     "text": [
      "Time Series Cross Validation:\n",
      "Best parameter: {'C': 0.01}\n",
      "Best Accuracy:0.549751243781\n",
      "SVC(C=0.01, cache_size=200, class_weight=None, coef0=0.0,\n",
      "  decision_function_shape=None, degree=3, gamma='auto', kernel='rbf',\n",
      "  max_iter=-1, probability=True, random_state=1, shrinking=True, tol=0.001,\n",
      "  verbose=False)\n",
      "Validation:\n",
      "Best Accuracy:0.507936507937\n"
     ]
    },
    {
     "data": {
      "image/png": "[encoded data removed]",
      "text/plain": [
       "<matplotlib.figure.Figure at 0x12c1c3d30>"
      ]
     },
     "metadata": {},
     "output_type": "display_data"
    }
   ],
   "source": [
    "# 10 topics\n",
    "tune_svm(X_train10p,y_train,X_test10p,y_test,True)"
   ]
  },
  {
   "cell_type": "code",
   "execution_count": 116,
   "metadata": {
    "collapsed": false
   },
   "outputs": [
    {
     "name": "stdout",
     "output_type": "stream",
     "text": [
      "Time Series Cross Validation:\n",
      "Best parameter: {'C': 0.01}\n",
      "Best Accuracy:0.548092868988\n",
      "SVC(C=0.01, cache_size=200, class_weight=None, coef0=0.0,\n",
      "  decision_function_shape=None, degree=3, gamma='auto', kernel='rbf',\n",
      "  max_iter=-1, probability=True, random_state=1, shrinking=True, tol=0.001,\n",
      "  verbose=False)\n",
      "Validation:\n",
      "Best Accuracy:0.510582010582\n"
     ]
    },
    {
     "data": {
      "image/png": "[encoded data removed]",
      "text/plain": [
       "<matplotlib.figure.Figure at 0x12c268f98>"
      ]
     },
     "metadata": {},
     "output_type": "display_data"
    }
   ],
   "source": [
    "# 20 topics\n",
    "tune_svm(X_train20p,y_train,X_test20p,y_test,True)"
   ]
  },
  {
   "cell_type": "code",
   "execution_count": 120,
   "metadata": {
    "collapsed": false
   },
   "outputs": [
    {
     "name": "stdout",
     "output_type": "stream",
     "text": [
      "Time Series Cross Validation:\n",
      "Best parameter: {'C': 9.6972727272727273}\n",
      "Best Accuracy:0.544776119403\n",
      "SVC(C=9.6972727272727273, cache_size=200, class_weight=None, coef0=0.0,\n",
      "  decision_function_shape=None, degree=3, gamma='auto', kernel='rbf',\n",
      "  max_iter=-1, probability=True, random_state=1, shrinking=True, tol=0.001,\n",
      "  verbose=False)\n",
      "Validation:\n",
      "Best Accuracy:0.507936507937\n"
     ]
    },
    {
     "data": {
      "image/png": "[encoded data removed]",
      "text/plain": [
       "<matplotlib.figure.Figure at 0x12c19d2b0>"
      ]
     },
     "metadata": {},
     "output_type": "display_data"
    }
   ],
   "source": [
    "# 30 topics\n",
    "tune_svm(X_train30p,y_train,X_test30p,y_test,True)"
   ]
  },
  {
   "cell_type": "markdown",
   "metadata": {},
   "source": [
    "### Tune Gradient Boosting"
   ]
  },
  {
   "cell_type": "code",
   "execution_count": 249,
   "metadata": {
    "collapsed": false
   },
   "outputs": [],
   "source": [
    "from sklearn.ensemble import GradientBoostingClassifier\n",
    "\n",
    "def tune_gbm(X,y,X_validation,y_validation,gen_plot=False):\n",
    "            \n",
    "    grid = ParameterGrid({'learning_rate':[0.05,0.1,0.2],\n",
    "        'max_depth':[3,5,7],'n_estimators':[150,100],\n",
    "                })\n",
    "    auc_all = []\n",
    "    models=[]\n",
    "    acc_all=[]\n",
    "    for params in grid:\n",
    "        gbm = GradientBoostingClassifier(random_state=0,**params)\n",
    "        tscv = TimeSeriesSplit(n_splits=5)\n",
    "        models.append(gbm)\n",
    "        inner_acc=[]\n",
    "        inner_roc=[]\n",
    "        for train_index, test_index in tscv.split(X):\n",
    "            X_train, X_test = X[train_index], X[test_index]\n",
    "            y_train, y_test = y[train_index], y[test_index]\n",
    "           \n",
    "            ypred=gbm.fit(X_train,y_train).predict_proba(X_test)[:,1]\n",
    "\n",
    "            acc = accuracy_score(y_test.ravel(),1*(ypred>0.5).ravel())\n",
    "            inner_acc.append(acc)\n",
    "            fpr, tpr, _ = roc_curve(y_test.ravel(), ypred.ravel())\n",
    "            roc_auc = auc(fpr,tpr)\n",
    "            inner_roc.append(roc_auc)\n",
    "        \n",
    "        auc_all.append(np.mean(inner_roc))\n",
    "        acc_all.append(np.mean(inner_acc))\n",
    "\n",
    "    idx = np.argmax(auc_all)\n",
    "    best_params = grid[idx]    \n",
    "    estimator = models[idx]\n",
    "    print('Time Series Cross Validation:')\n",
    "    print('Best parameter: ' + str(best_params))\n",
    "    print('Best Accuracy:' + str(np.max(acc_all)))\n",
    "    print('Best ROC:' + str(np.max(auc_all)))\n",
    "\n",
    "    print(estimator)\n",
    "    \n",
    "    \n",
    "    ypred=estimator.fit(X,y).predict_proba(X_validation)[:,1]\n",
    "    acc = accuracy_score(y_validation.ravel(),1*(ypred>0.5).ravel())\n",
    "    fpr, tpr, _ = roc_curve(y_validation.ravel(), ypred.ravel())\n",
    "    roc_auc = auc(fpr,tpr)\n",
    "\n",
    "    print('Validation Set:')\n",
    "    print('Best Accuracy:' + str(acc))\n",
    "\n",
    "\n",
    "\n",
    "    if gen_plot:\n",
    "        plt.figure()\n",
    "        plt.plot(fpr, tpr, color='darkorange',\n",
    "                 lw=2, label='ROC curve (area = %0.4f)' % roc_auc)\n",
    "        plt.plot([0, 1], [0, 1], 'k--')\n",
    "        plt.xlabel('False positive rate')\n",
    "        plt.ylabel('True positive rate')\n",
    "        plt.title('ROC curve')\n",
    "        plt.legend(loc='lower right')\n",
    "        plt.show()"
   ]
  },
  {
   "cell_type": "code",
   "execution_count": 272,
   "metadata": {
    "collapsed": false
   },
   "outputs": [
    {
     "name": "stdout",
     "output_type": "stream",
     "text": [
      "Time Series Cross Validation:\n",
      "Best parameter: {'n_estimators': 150, 'max_depth': 7, 'learning_rate': 0.05}\n",
      "Best Accuracy:0.512686567164\n",
      "Best ROC:0.509192370351\n",
      "GradientBoostingClassifier(criterion='friedman_mse', init=None,\n",
      "              learning_rate=0.05, loss='deviance', max_depth=7,\n",
      "              max_features=None, max_leaf_nodes=None,\n",
      "              min_impurity_split=1e-07, min_samples_leaf=1,\n",
      "              min_samples_split=2, min_weight_fraction_leaf=0.0,\n",
      "              n_estimators=150, presort='auto', random_state=0,\n",
      "              subsample=1.0, verbose=0, warm_start=False)\n",
      "Validation Set:\n",
      "Best Accuracy:0.5\n"
     ]
    },
    {
     "data": {
      "image/png": "[encoded data removed]",
      "text/plain": [
       "<matplotlib.figure.Figure at 0x1269c6748>"
      ]
     },
     "metadata": {},
     "output_type": "display_data"
    }
   ],
   "source": [
    "# 2 topic\n",
    "tune_gbm(X_train2p,y_train,X_test2p,y_test,True)"
   ]
  },
  {
   "cell_type": "markdown",
   "metadata": {},
   "source": [
    "### Tune KNN"
   ]
  },
  {
   "cell_type": "code",
   "execution_count": 369,
   "metadata": {
    "collapsed": true
   },
   "outputs": [],
   "source": [
    "def tune_knn(X,y,X_validation,y_validation,gen_plot=False):\n",
    "            \n",
    "    grid = ParameterGrid({'n_neighbors':[3,5,7,9,11,13,15],\n",
    "        'p':[1,2,99],'weights':['uniform','distance'],\n",
    "                         'algorithm' : ['auto', 'ball_tree', 'kd_tree', 'brute']})\n",
    "    auc_all = []\n",
    "    models=[]\n",
    "    acc_all=[]\n",
    "    for params in grid:\n",
    "        knn = KNeighborsClassifier(**params)\n",
    "        tscv = TimeSeriesSplit(n_splits=5)\n",
    "        models.append(knn)\n",
    "        inner_acc=[]\n",
    "        inner_roc=[]\n",
    "        for train_index, test_index in tscv.split(X):\n",
    "            X_train, X_test = X[train_index], X[test_index]\n",
    "            y_train, y_test = y[train_index], y[test_index]\n",
    "           \n",
    "            ypred=knn.fit(X_train,y_train).predict_proba(X_test)[:,1]\n",
    "\n",
    "            acc = accuracy_score(y_test.ravel(),1*(ypred>0.5).ravel())\n",
    "            inner_acc.append(acc)\n",
    "            fpr, tpr, _ = roc_curve(y_test.ravel(), ypred.ravel())\n",
    "            roc_auc = auc(fpr,tpr)\n",
    "            inner_roc.append(roc_auc)\n",
    "        \n",
    "        auc_all.append(np.mean(inner_roc))\n",
    "        acc_all.append(np.mean(inner_acc))\n",
    "    plt.figure()\n",
    "    plt.hist(auc_all)\n",
    "    plt.xlabel('ROC-AUC score')\n",
    "    plt.ylabel('Count')\n",
    "    plt.title('Histogram of Cross-Validation Results')\n",
    "    idx = np.argmax(auc_all)\n",
    "    best_params = grid[idx]    \n",
    "    estimator = models[idx]\n",
    "    print('Time Series Cross Validation:')\n",
    "    print('Best parameter: ' + str(best_params))\n",
    "    print('Best Accuracy:' + str(np.max(acc_all)))\n",
    "    print('Best ROC:' + str(np.max(auc_all)))\n",
    "\n",
    "    print(estimator)\n",
    "    \n",
    "    \n",
    "    ypred=estimator.fit(X,y).predict_proba(X_validation)[:,1]\n",
    "    acc = accuracy_score(y_validation.ravel(),1*(ypred>0.5).ravel())\n",
    "    fpr, tpr, _ = roc_curve(y_validation.ravel(), ypred.ravel())\n",
    "    roc_auc = auc(fpr,tpr)\n",
    "\n",
    "    print('Validation Set:')\n",
    "    print('Best Accuracy:' + str(acc))\n",
    "\n",
    "\n",
    "\n",
    "    if gen_plot:\n",
    "        plt.figure()\n",
    "        plt.plot(fpr, tpr, color='darkorange',\n",
    "                 lw=2, label='ROC curve (area = %0.4f)' % roc_auc)\n",
    "        plt.plot([0, 1], [0, 1], 'k--')\n",
    "        plt.xlabel('False positive rate')\n",
    "        plt.ylabel('True positive rate')\n",
    "        plt.title('ROC curve')\n",
    "        plt.legend(loc='lower right')\n",
    "        plt.show()"
   ]
  },
  {
   "cell_type": "code",
   "execution_count": 370,
   "metadata": {
    "collapsed": false
   },
   "outputs": [
    {
     "name": "stdout",
     "output_type": "stream",
     "text": [
      "Time Series Cross Validation:\n",
      "Best parameter: {'weights': 'distance', 'p': 99, 'n_neighbors': 3, 'algorithm': 'auto'}\n",
      "Best Accuracy:0.50223880597\n",
      "Best ROC:0.505192625154\n",
      "KNeighborsClassifier(algorithm='auto', leaf_size=30, metric='minkowski',\n",
      "           metric_params=None, n_jobs=1, n_neighbors=3, p=99,\n",
      "           weights='distance')\n",
      "Validation Set:\n",
      "Best Accuracy:0.550264550265\n"
     ]
    },
    {
     "data": {
      "image/png": "[encoded data removed]",
      "text/plain": [
       "<matplotlib.figure.Figure at 0x1248e6160>"
      ]
     },
     "metadata": {},
     "output_type": "display_data"
    },
    {
     "data": {
      "image/png": "[encoded data removed]",
      "text/plain": [
       "<matplotlib.figure.Figure at 0x1254426a0>"
      ]
     },
     "metadata": {},
     "output_type": "display_data"
    }
   ],
   "source": [
    "# 2 topic\n",
    "tune_knn(X_train2p,y_train,X_test2p,y_test,True)"
   ]
  },
  {
   "cell_type": "markdown",
   "metadata": {},
   "source": [
    "\n",
    "\n",
    "# PUSH the limit of Technical Analysis"
   ]
  },
  {
   "cell_type": "code",
   "execution_count": 366,
   "metadata": {
    "collapsed": false
   },
   "outputs": [],
   "source": [
    "def plot_data(df, title=\"Stock prices\", xlabel=\"Date\", ylabel=\"Price\"):\n",
    "    \"\"\"Plot stock prices with a custom title and meaningful axis labels.\"\"\"\n",
    "    fig, ax = plt.subplots()\n",
    "    ax = df.plot(title=title)\n",
    "    fig.autofmt_xdate()\n",
    "    ax.set_xlabel(xlabel)\n",
    "    ax.set_ylabel(ylabel)\n",
    "    plt.show()\n",
    "    \n",
    "def sma(df,lookback=14,gen_plot=True):\n",
    "    sma = df.copy()\n",
    "    avg =pd.rolling_mean(sma,window=lookback,min_periods=lookback)\n",
    "    sma = sma / avg\n",
    "    if gen_plot==True:\n",
    "        plot_data(sma, title='Moving Average',ylabel=' Price/Moving-Average')\n",
    "    \n",
    "    return sma"
   ]
  },
  {
   "cell_type": "code",
   "execution_count": 367,
   "metadata": {
    "collapsed": false
   },
   "outputs": [
    {
     "data": {
      "image/png": "[encoded data removed]",
      "text/plain": [
       "<matplotlib.figure.Figure at 0x1282766a0>"
      ]
     },
     "metadata": {},
     "output_type": "display_data"
    }
   ],
   "source": [
    "plot_data(yahoo['Adj Close'])"
   ]
  },
  {
   "cell_type": "code",
   "execution_count": 368,
   "metadata": {
    "collapsed": false
   },
   "outputs": [
    {
     "name": "stderr",
     "output_type": "stream",
     "text": [
      "//anaconda/lib/python3.6/site-packages/ipykernel/__main__.py:12: FutureWarning: pd.rolling_mean is deprecated for Series and will be removed in a future version, replace with \n",
      "\tSeries.rolling(window=14,min_periods=14,center=False).mean()\n"
     ]
    },
    {
     "data": {
      "image/png": "[encoded data removed]",
      "text/plain": [
       "<matplotlib.figure.Figure at 0x128743b00>"
      ]
     },
     "metadata": {},
     "output_type": "display_data"
    }
   ],
   "source": [
    "x_yahoo = sma(yahoo['Adj Close'])\n"
   ]
  },
  {
   "cell_type": "code",
   "execution_count": 307,
   "metadata": {
    "collapsed": true
   },
   "outputs": [],
   "source": [
    "x_yahoo_train = x_yahoo[:len(train)].values.reshape(-1,1)\n",
    "x_yahoo_test = x_yahoo[len(train):].values.reshape(-1,1)"
   ]
  },
  {
   "cell_type": "code",
   "execution_count": 316,
   "metadata": {
    "collapsed": false
   },
   "outputs": [
    {
     "name": "stdout",
     "output_type": "stream",
     "text": [
      "\n",
      "2 topics\n",
      "0.676397289427\n",
      "0.621693121693\n"
     ]
    }
   ],
   "source": [
    "# GBM\n",
    "print()\n",
    "print('2 topics')\n",
    "print(roc_auc_score(y_test, GradientBoostingClassifier(random_state=0).fit(x_yahoo_train[13:,:],y_train[13:]).predict_proba(x_yahoo_test)[:,1]))\n",
    "print(accuracy_score(GradientBoostingClassifier(random_state=0).fit(x_yahoo_train[13:,:],y_train[13:]).predict(x_yahoo_test),y_test))\n"
   ]
  },
  {
   "cell_type": "code",
   "execution_count": null,
   "metadata": {
    "collapsed": true
   },
   "outputs": [],
   "source": []
  },
  {
   "cell_type": "code",
   "execution_count": 317,
   "metadata": {
    "collapsed": false
   },
   "outputs": [
    {
     "name": "stdout",
     "output_type": "stream",
     "text": [
      "\n",
      "2 topics\n",
      "0.691630264337\n",
      "0.645502645503\n"
     ]
    }
   ],
   "source": [
    "# GBM\n",
    "print()\n",
    "print('2 topics')\n",
    "print(roc_auc_score(y_test, GradientBoostingClassifier(random_state=0).fit(np.concatenate([X_train2p,x_yahoo_train],axis=1)[13:,:],\\\n",
    "                                                       y_train[13:]).predict_proba(np.concatenate([X_test2p,x_yahoo_test],axis=1))[:,1]))\n",
    "print(accuracy_score(GradientBoostingClassifier(random_state=0).fit(np.concatenate([X_train2p,x_yahoo_train],axis=1)[13:,:],\\\n",
    "                                                y_train[13:]).predict(np.concatenate([X_test2p,x_yahoo_test],axis=1)),y_test))\n"
   ]
  },
  {
   "cell_type": "code",
   "execution_count": 348,
   "metadata": {
    "collapsed": true
   },
   "outputs": [],
   "source": [
    "fpr1, tpr1, _ =roc_curve(y_test, GradientBoostingClassifier(random_state=6740).fit(x_yahoo_train[13:,:],y_train[13:]).predict_proba(x_yahoo_test)[:,1])\n",
    "roc_auc1 = auc(fpr1,tpr1)\n",
    "fpr2, tpr2, _ =roc_curve(y_test, GradientBoostingClassifier(random_state=6740).fit(np.concatenate([X_train2p,x_yahoo_train],axis=1)[13:,:],\\\n",
    "                                                       y_train[13:]).predict_proba(np.concatenate([X_test2p,x_yahoo_test],axis=1))[:,1])\n",
    "roc_auc2 = auc(fpr2,tpr2)"
   ]
  },
  {
   "cell_type": "code",
   "execution_count": 365,
   "metadata": {
    "collapsed": false
   },
   "outputs": [
    {
     "data": {
      "image/png": "[encoded data removed]",
      "text/plain": [
       "<matplotlib.figure.Figure at 0x126869ba8>"
      ]
     },
     "metadata": {},
     "output_type": "display_data"
    }
   ],
   "source": [
    "plt.figure()\n",
    "plt.plot(fpr1, tpr1, color='darkorange',\n",
    "                 lw=2, label='moving average (area = %0.4f)' % roc_auc1)\n",
    "plt.plot(fpr2, tpr2, color='darkblue',\n",
    "                 lw=2, label='moving average + 2 topics (area = %0.4f)' % roc_auc2)\n",
    "plt.plot([0, 1], [0, 1], 'k--')\n",
    "plt.xlabel('False positive rate')\n",
    "plt.ylabel('True positive rate')\n",
    "plt.title('ROC curve')\n",
    "plt.legend(loc='lower right')\n",
    "plt.show()"
   ]
  },
  {
   "cell_type": "code",
   "execution_count": null,
   "metadata": {
    "collapsed": true
   },
   "outputs": [],
   "source": []
  },
  {
   "cell_type": "markdown",
   "metadata": {},
   "source": [
    "## Sentimental Analysis"
   ]
  },
  {
   "cell_type": "code",
   "execution_count": 165,
   "metadata": {
    "collapsed": true
   },
   "outputs": [],
   "source": [
    "from textblob import TextBlob"
   ]
  },
  {
   "cell_type": "code",
   "execution_count": 166,
   "metadata": {
    "collapsed": false
   },
   "outputs": [],
   "source": [
    "y_polarity_train = np.zeros(train.shape[0])\n",
    "y_subjectivity_train = np.zeros(train.shape[0])\n",
    "y_polarity_test = np.zeros(test.shape[0])\n",
    "y_subjectivity_test = np.zeros(test.shape[0])"
   ]
  },
  {
   "cell_type": "code",
   "execution_count": 167,
   "metadata": {
    "collapsed": false
   },
   "outputs": [],
   "source": [
    "for i in range(len(train_vob)):\n",
    "    blob = TextBlob(' '.join(train_vob[i]))\n",
    "    y_polarity_train[i] = blob.sentiment.polarity\n",
    "    y_subjectivity_train[i] = blob.sentiment.subjectivity"
   ]
  },
  {
   "cell_type": "code",
   "execution_count": 168,
   "metadata": {
    "collapsed": true
   },
   "outputs": [],
   "source": [
    "for i in range(len(test_vob)):\n",
    "    blob = TextBlob(' '.join(test_vob[i]))\n",
    "    y_polarity_test[i] = blob.sentiment.polarity\n",
    "    y_subjectivity_test[i] = blob.sentiment.subjectivity"
   ]
  },
  {
   "cell_type": "code",
   "execution_count": 169,
   "metadata": {
    "collapsed": false
   },
   "outputs": [
    {
     "data": {
      "text/plain": [
       "(array([   5.,   20.,   56.,  179.,  367.,  487.,  334.,  128.,   24.,   11.]),\n",
       " array([-0.20219697, -0.16265909, -0.12312121, -0.08358333, -0.04404545,\n",
       "        -0.00450758,  0.0350303 ,  0.07456818,  0.11410606,  0.15364394,\n",
       "         0.19318182]),\n",
       " <a list of 10 Patch objects>)"
      ]
     },
     "execution_count": 169,
     "metadata": {},
     "output_type": "execute_result"
    },
    {
     "data": {
      "image/png": "[encoded data removed]",
      "text/plain": [
       "<matplotlib.figure.Figure at 0x128740e48>"
      ]
     },
     "metadata": {},
     "output_type": "display_data"
    }
   ],
   "source": [
    "plt.hist(y_polarity_train)"
   ]
  },
  {
   "cell_type": "code",
   "execution_count": 170,
   "metadata": {
    "collapsed": false
   },
   "outputs": [
    {
     "data": {
      "text/plain": [
       "(array([  11.,   80.,  211.,  427.,  484.,  285.,   85.,   21.,    4.,    3.]),\n",
       " array([ 0.14830586,  0.19651099,  0.24471612,  0.29292125,  0.34112637,\n",
       "         0.3893315 ,  0.43753663,  0.48574176,  0.53394689,  0.58215201,\n",
       "         0.63035714]),\n",
       " <a list of 10 Patch objects>)"
      ]
     },
     "execution_count": 170,
     "metadata": {},
     "output_type": "execute_result"
    },
    {
     "data": {
      "image/png": "[encoded data removed]",
      "text/plain": [
       "<matplotlib.figure.Figure at 0x12c0bf630>"
      ]
     },
     "metadata": {},
     "output_type": "display_data"
    }
   ],
   "source": [
    "plt.hist(y_subjectivity_train)"
   ]
  },
  {
   "cell_type": "code",
   "execution_count": 224,
   "metadata": {
    "collapsed": true
   },
   "outputs": [],
   "source": [
    "y_polarity_train = 1* (y_polarity_train>0)"
   ]
  },
  {
   "cell_type": "code",
   "execution_count": 225,
   "metadata": {
    "collapsed": false
   },
   "outputs": [],
   "source": [
    "y_polarity_test = 1* (y_polarity_test>0)"
   ]
  },
  {
   "cell_type": "code",
   "execution_count": 226,
   "metadata": {
    "collapsed": false
   },
   "outputs": [
    {
     "data": {
      "text/plain": [
       "0.6693121693121693"
      ]
     },
     "execution_count": 226,
     "metadata": {},
     "output_type": "execute_result"
    }
   ],
   "source": [
    "np.sum(y_polarity_test) / float(len(y_polarity_test))"
   ]
  },
  {
   "cell_type": "code",
   "execution_count": 227,
   "metadata": {
    "collapsed": false
   },
   "outputs": [
    {
     "name": "stdout",
     "output_type": "stream",
     "text": [
      "\n",
      "2 topics\n",
      "0.498339920949\n",
      "0.669312169312\n",
      "\n",
      "10 topics\n",
      "0.509438735178\n",
      "0.661375661376\n",
      "\n",
      "20 topics\n",
      "0.558197628458\n",
      "0.671957671958\n",
      "\n",
      "30 topics\n",
      "0.521201581028\n",
      "0.650793650794\n"
     ]
    }
   ],
   "source": [
    "# logistic Regression + polarity\n",
    "\n",
    "print()\n",
    "print('2 topics')\n",
    "print(roc_auc_score(y_polarity_test, LogisticRegression().fit(X_train2p,y_polarity_train).predict_proba(X_test2p)[:,1]))\n",
    "print(accuracy_score(LogisticRegression().fit(X_train2p,y_polarity_train).predict(X_test2p),y_polarity_test))\n",
    "\n",
    "print()\n",
    "print('10 topics')\n",
    "print(roc_auc_score(y_polarity_test, LogisticRegression().fit(X_train10p,y_polarity_train).predict_proba(X_test10p)[:,1]))\n",
    "print(accuracy_score(LogisticRegression().fit(X_train10p,y_polarity_train).predict(X_test10p),y_polarity_test))\n",
    "\n",
    "print()\n",
    "print('20 topics')\n",
    "print(roc_auc_score(y_polarity_test, LogisticRegression().fit(X_train20p,y_polarity_train).predict_proba(X_test20p)[:,1]))\n",
    "print(accuracy_score(LogisticRegression().fit(X_train20p,y_polarity_train).predict(X_test20p),y_polarity_test))\n",
    "\n",
    "print()\n",
    "print('30 topics')\n",
    "print(roc_auc_score(y_polarity_test, LogisticRegression().fit(X_train30p,y_polarity_train).predict_proba(X_test30p)[:,1]))\n",
    "print(accuracy_score(LogisticRegression().fit(X_train30p,y_polarity_train).predict(X_test30p),y_polarity_test))"
   ]
  },
  {
   "cell_type": "code",
   "execution_count": 228,
   "metadata": {
    "collapsed": false
   },
   "outputs": [
    {
     "name": "stdout",
     "output_type": "stream",
     "text": [
      "\n",
      "2 topics\n",
      "0.478482213439\n",
      "0.669312169312\n",
      "\n",
      "10 topics\n",
      "0.533217391304\n",
      "0.669312169312\n",
      "\n",
      "20 topics\n",
      "0.435415019763\n",
      "0.669312169312\n",
      "\n",
      "30 topics\n",
      "0.454545454545\n",
      "0.669312169312\n"
     ]
    }
   ],
   "source": [
    "# SVM + polarity\n",
    "print()\n",
    "print('2 topics')\n",
    "print(roc_auc_score(y_polarity_test, SVC(probability=True).fit(X_train2p,y_polarity_train).predict_proba(X_test2p)[:,1]))\n",
    "print(accuracy_score(SVC().fit(X_train2p,y_polarity_train).predict(X_test2p),y_polarity_test))\n",
    "\n",
    "print()\n",
    "print('10 topics')\n",
    "print(roc_auc_score(y_polarity_test, SVC(probability=True).fit(X_train10p,y_polarity_train).predict_proba(X_test10p)[:,1]))\n",
    "print(accuracy_score(SVC().fit(X_train10p,y_polarity_train).predict(X_test10p),y_polarity_test))\n",
    "\n",
    "print()\n",
    "print('20 topics')\n",
    "print(roc_auc_score(y_polarity_test, SVC(probability=True).fit(X_train20p,y_polarity_train).predict_proba(X_test20p)[:,1]))\n",
    "print(accuracy_score(SVC().fit(X_train20p,y_polarity_train).predict(X_test20p),y_polarity_test))\n",
    "\n",
    "print()\n",
    "print('30 topics')\n",
    "print(roc_auc_score(y_polarity_test, SVC(probability=True).fit(X_train30p,y_polarity_train).predict_proba(X_test30p)[:,1]))\n",
    "print(accuracy_score(SVC().fit(X_train30p,y_polarity_train).predict(X_test30p),y_polarity_test))"
   ]
  },
  {
   "cell_type": "code",
   "execution_count": 263,
   "metadata": {
    "collapsed": false
   },
   "outputs": [
    {
     "name": "stdout",
     "output_type": "stream",
     "text": [
      "\n",
      "2 topics\n",
      "0.58837944664\n",
      "0.579365079365\n",
      "\n",
      "10 topics\n",
      "0.521517786561\n",
      "0.544973544974\n",
      "\n",
      "20 topics\n",
      "0.469296442688\n",
      "0.502645502646\n",
      "\n",
      "30 topics\n",
      "0.586292490119\n",
      "0.57671957672\n"
     ]
    }
   ],
   "source": [
    "# RandomForest + polarity\n",
    "print()\n",
    "print('2 topics')\n",
    "print(roc_auc_score(y_polarity_test, RandomForestClassifier(random_state=0).fit(X_train2p,y_polarity_train).predict_proba(X_test2p)[:,1]))\n",
    "print(accuracy_score(RandomForestClassifier().fit(X_train2p,y_polarity_train).predict(X_test2p),y_polarity_test))\n",
    "\n",
    "print()\n",
    "print('10 topics')\n",
    "print(roc_auc_score(y_polarity_test, RandomForestClassifier(random_state=0).fit(X_train10p,y_polarity_train).predict_proba(X_test10p)[:,1]))\n",
    "print(accuracy_score(RandomForestClassifier(random_state=0).fit(X_train10p,y_polarity_train).predict(X_test10p),y_polarity_test))\n",
    "\n",
    "print()\n",
    "print('20 topics')\n",
    "print(roc_auc_score(y_polarity_test, RandomForestClassifier(random_state=0).fit(X_train20p,y_polarity_train).predict_proba(X_test20p)[:,1]))\n",
    "print(accuracy_score(RandomForestClassifier(random_state=0).fit(X_train20p,y_polarity_train).predict(X_test20p),y_polarity_test))\n",
    "\n",
    "print()\n",
    "print('30 topics')\n",
    "print(roc_auc_score(y_polarity_test, RandomForestClassifier(random_state=0).fit(X_train30p,y_polarity_train).predict_proba(X_test30p)[:,1]))\n",
    "print(accuracy_score(RandomForestClassifier(random_state=0).fit(X_train30p,y_polarity_train).predict(X_test30p),y_polarity_test))"
   ]
  },
  {
   "cell_type": "code",
   "execution_count": 265,
   "metadata": {
    "collapsed": false
   },
   "outputs": [
    {
     "name": "stdout",
     "output_type": "stream",
     "text": [
      "[0.51916882127355024, 0.51916882127355024, 0.52260938662511702, 0.52265937682662378, 0.51090454549075381, 0.51045545165426309]\n",
      "Time Series Cross Validation:\n",
      "Best parameter: {'n_estimators': 30, 'min_samples_leaf': 3}\n",
      "Best Accuracy:0.525704809287\n",
      "RandomForestClassifier(bootstrap=False, class_weight=None, criterion='gini',\n",
      "            max_depth=None, max_features='auto', max_leaf_nodes=None,\n",
      "            min_impurity_split=1e-07, min_samples_leaf=3,\n",
      "            min_samples_split=2, min_weight_fraction_leaf=0.0,\n",
      "            n_estimators=30, n_jobs=-1, oob_score=False, random_state=0,\n",
      "            verbose=0, warm_start=False)\n",
      "Validation Set:\n",
      "Best Accuracy:0.582010582011\n",
      "Confusion Matrix:\n",
      "[[ 70  55]\n",
      " [103 150]]\n"
     ]
    },
    {
     "data": {
      "image/png": "[encoded data removed]",
      "text/plain": [
       "<matplotlib.figure.Figure at 0x128740550>"
      ]
     },
     "metadata": {},
     "output_type": "display_data"
    }
   ],
   "source": [
    "tune_rf(X_train2p,y_polarity_train,X_test2p,y_polarity_test,True)"
   ]
  },
  {
   "cell_type": "code",
   "execution_count": null,
   "metadata": {
    "collapsed": true
   },
   "outputs": [],
   "source": []
  },
  {
   "cell_type": "code",
   "execution_count": 230,
   "metadata": {
    "collapsed": false
   },
   "outputs": [
    {
     "name": "stdout",
     "output_type": "stream",
     "text": [
      "\n",
      "2 topics\n",
      "0.533233201581\n",
      "0.560846560847\n",
      "\n",
      "10 topics\n",
      "0.534529644269\n",
      "0.566137566138\n",
      "\n",
      "20 topics\n",
      "0.521011857708\n",
      "0.589947089947\n",
      "\n",
      "30 topics\n",
      "0.530750988142\n",
      "0.560846560847\n"
     ]
    }
   ],
   "source": [
    "from sklearn.neighbors import KNeighborsClassifier\n",
    "# KNN + polarity\n",
    "print()\n",
    "print('2 topics')\n",
    "print(roc_auc_score(y_polarity_test, KNeighborsClassifier().fit(X_train2p,y_polarity_train).predict_proba(X_test2p)[:,1]))\n",
    "print(accuracy_score(KNeighborsClassifier().fit(X_train2p,y_polarity_train).predict(X_test2p),y_polarity_test))\n",
    "\n",
    "print()\n",
    "print('10 topics')\n",
    "print(roc_auc_score(y_polarity_test, KNeighborsClassifier().fit(X_train10p,y_polarity_train).predict_proba(X_test10p)[:,1]))\n",
    "print(accuracy_score(KNeighborsClassifier().fit(X_train10p,y_polarity_train).predict(X_test10p),y_polarity_test))\n",
    "\n",
    "print()\n",
    "print('20 topics')\n",
    "print(roc_auc_score(y_polarity_test, KNeighborsClassifier().fit(X_train20p,y_polarity_train).predict_proba(X_test20p)[:,1]))\n",
    "print(accuracy_score(KNeighborsClassifier().fit(X_train20p,y_polarity_train).predict(X_test20p),y_polarity_test))\n",
    "\n",
    "print()\n",
    "print('30 topics')\n",
    "print(roc_auc_score(y_polarity_test, KNeighborsClassifier().fit(X_train30p,y_polarity_train).predict_proba(X_test30p)[:,1]))\n",
    "print(accuracy_score(KNeighborsClassifier().fit(X_train30p,y_polarity_train).predict(X_test30p),y_polarity_test))"
   ]
  },
  {
   "cell_type": "code",
   "execution_count": 200,
   "metadata": {
    "collapsed": false
   },
   "outputs": [
    {
     "data": {
      "text/plain": [
       "array([[ 1.        ,  0.02140723],\n",
       "       [ 0.02140723,  1.        ]])"
      ]
     },
     "execution_count": 200,
     "metadata": {},
     "output_type": "execute_result"
    }
   ],
   "source": [
    "np.corrcoef(y_ret_train,y_polarity_train)"
   ]
  },
  {
   "cell_type": "code",
   "execution_count": 209,
   "metadata": {
    "collapsed": false
   },
   "outputs": [
    {
     "name": "stdout",
     "output_type": "stream",
     "text": [
      "-0.0020068292609\n",
      "-0.000651088597056\n",
      "0.0557927420656\n",
      "0.0275585713376\n",
      "-0.00307139416922\n",
      "-0.0181815713422\n",
      "0.00762024000764\n",
      "0.0291703792675\n",
      "0.0223347887956\n",
      "-0.0427676802399\n",
      "0.0124871334399\n",
      "0.038498357141\n",
      "0.00653604920158\n",
      "-0.00618827404948\n",
      "0.0258766426198\n",
      "0.00357691283926\n",
      "-0.0267392677834\n",
      "-0.0413933513794\n",
      "-0.0202967172659\n",
      "-0.00147810894391\n"
     ]
    }
   ],
   "source": [
    "for i in range(X_train20p.shape[1]):\n",
    "    print(np.corrcoef(y_polarity_train,X_train20p[:,i])[0,1])"
   ]
  }
 ],
 "metadata": {
  "kernelspec": {
   "display_name": "Python 3",
   "language": "python",
   "name": "python3"
  },
  "language_info": {
   "codemirror_mode": {
    "name": "ipython",
    "version": 3
   },
   "file_extension": ".py",
   "mimetype": "text/x-python",
   "name": "python",
   "nbconvert_exporter": "python",
   "pygments_lexer": "ipython3",
   "version": "3.6.0"
  }
 },
 "nbformat": 4,
 "nbformat_minor": 2
}
