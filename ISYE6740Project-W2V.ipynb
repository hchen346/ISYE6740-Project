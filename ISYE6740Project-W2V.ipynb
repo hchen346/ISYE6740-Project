{
 "cells": [
  {
   "cell_type": "markdown",
   "metadata": {},
   "source": [
    "# ISYE6740 Project"
   ]
  },
  {
   "cell_type": "markdown",
   "metadata": {},
   "source": [
    "#### Flow: \n",
    "\n",
    "1. Word2vec using Gensim\n",
    "\n",
    "2. Build classifers: Random Forst, Logistic Regression, Bernoulli NB, Modified Word2Vec, LSTM.\n",
    "\n",
    "3. Tune parameter for each model. \n",
    " "
   ]
  },
  {
   "cell_type": "markdown",
   "metadata": {},
   "source": [
    "## 1.Word2Vec"
   ]
  },
  {
   "cell_type": "code",
   "execution_count": null,
   "metadata": {
    "collapsed": false
   },
   "outputs": [],
   "source": [
    "#!pip3 install --upgrade gensim"
   ]
  },
  {
   "cell_type": "code",
   "execution_count": 2,
   "metadata": {
    "collapsed": false
   },
   "outputs": [],
   "source": [
    "#word2vec\n",
    "import logging\n",
    "logging.basicConfig(format='%(asctime)s : %(levelname)s : %(message)s', level=logging.INFO)"
   ]
  },
  {
   "cell_type": "code",
   "execution_count": 3,
   "metadata": {
    "collapsed": false
   },
   "outputs": [
    {
     "data": {
      "text/html": [
       "<div>\n",
       "<table border=\"1\" class=\"dataframe\">\n",
       "  <thead>\n",
       "    <tr style=\"text-align: right;\">\n",
       "      <th></th>\n",
       "      <th>Date</th>\n",
       "      <th>Label</th>\n",
       "      <th>Top1</th>\n",
       "      <th>Top2</th>\n",
       "      <th>Top3</th>\n",
       "      <th>Top4</th>\n",
       "      <th>Top5</th>\n",
       "      <th>Top6</th>\n",
       "      <th>Top7</th>\n",
       "      <th>Top8</th>\n",
       "      <th>...</th>\n",
       "      <th>Top16</th>\n",
       "      <th>Top17</th>\n",
       "      <th>Top18</th>\n",
       "      <th>Top19</th>\n",
       "      <th>Top20</th>\n",
       "      <th>Top21</th>\n",
       "      <th>Top22</th>\n",
       "      <th>Top23</th>\n",
       "      <th>Top24</th>\n",
       "      <th>Top25</th>\n",
       "    </tr>\n",
       "  </thead>\n",
       "  <tbody>\n",
       "    <tr>\n",
       "      <th>0</th>\n",
       "      <td>2008-08-08</td>\n",
       "      <td>0</td>\n",
       "      <td>b\"Georgia 'downs two Russian warplanes' as cou...</td>\n",
       "      <td>b'BREAKING: Musharraf to be impeached.'</td>\n",
       "      <td>b'Russia Today: Columns of troops roll into So...</td>\n",
       "      <td>b'Russian tanks are moving towards the capital...</td>\n",
       "      <td>b\"Afghan children raped with 'impunity,' U.N. ...</td>\n",
       "      <td>b'150 Russian tanks have entered South Ossetia...</td>\n",
       "      <td>b\"Breaking: Georgia invades South Ossetia, Rus...</td>\n",
       "      <td>b\"The 'enemy combatent' trials are nothing but...</td>\n",
       "      <td>...</td>\n",
       "      <td>b'Georgia Invades South Ossetia - if Russia ge...</td>\n",
       "      <td>b'Al-Qaeda Faces Islamist Backlash'</td>\n",
       "      <td>b'Condoleezza Rice: \"The US would not act to p...</td>\n",
       "      <td>b'This is a busy day:  The European Union has ...</td>\n",
       "      <td>b\"Georgia will withdraw 1,000 soldiers from Ir...</td>\n",
       "      <td>b'Why the Pentagon Thinks Attacking Iran is a ...</td>\n",
       "      <td>b'Caucasus in crisis: Georgia invades South Os...</td>\n",
       "      <td>b'Indian shoe manufactory  - And again in a se...</td>\n",
       "      <td>b'Visitors Suffering from Mental Illnesses Ban...</td>\n",
       "      <td>b\"No Help for Mexico's Kidnapping Surge\"</td>\n",
       "    </tr>\n",
       "    <tr>\n",
       "      <th>1</th>\n",
       "      <td>2008-08-11</td>\n",
       "      <td>1</td>\n",
       "      <td>b'Why wont America and Nato help us? If they w...</td>\n",
       "      <td>b'Bush puts foot down on Georgian conflict'</td>\n",
       "      <td>b\"Jewish Georgian minister: Thanks to Israeli ...</td>\n",
       "      <td>b'Georgian army flees in disarray as Russians ...</td>\n",
       "      <td>b\"Olympic opening ceremony fireworks 'faked'\"</td>\n",
       "      <td>b'What were the Mossad with fraudulent New Zea...</td>\n",
       "      <td>b'Russia angered by Israeli military sale to G...</td>\n",
       "      <td>b'An American citizen living in S.Ossetia blam...</td>\n",
       "      <td>...</td>\n",
       "      <td>b'Israel and the US behind the Georgian aggres...</td>\n",
       "      <td>b'\"Do not believe TV, neither Russian nor Geor...</td>\n",
       "      <td>b'Riots are still going on in Montreal (Canada...</td>\n",
       "      <td>b'China to overtake US as largest manufacturer'</td>\n",
       "      <td>b'War in South Ossetia [PICS]'</td>\n",
       "      <td>b'Israeli Physicians Group Condemns State Tort...</td>\n",
       "      <td>b' Russia has just beaten the United States ov...</td>\n",
       "      <td>b'Perhaps *the* question about the Georgia - R...</td>\n",
       "      <td>b'Russia is so much better at war'</td>\n",
       "      <td>b\"So this is what it's come to: trading sex fo...</td>\n",
       "    </tr>\n",
       "    <tr>\n",
       "      <th>2</th>\n",
       "      <td>2008-08-12</td>\n",
       "      <td>0</td>\n",
       "      <td>b'Remember that adorable 9-year-old who sang a...</td>\n",
       "      <td>b\"Russia 'ends Georgia operation'\"</td>\n",
       "      <td>b'\"If we had no sexual harassment we would hav...</td>\n",
       "      <td>b\"Al-Qa'eda is losing support in Iraq because ...</td>\n",
       "      <td>b'Ceasefire in Georgia: Putin Outmaneuvers the...</td>\n",
       "      <td>b'Why Microsoft and Intel tried to kill the XO...</td>\n",
       "      <td>b'Stratfor: The Russo-Georgian War and the Bal...</td>\n",
       "      <td>b\"I'm Trying to Get a Sense of This Whole Geor...</td>\n",
       "      <td>...</td>\n",
       "      <td>b'U.S. troops still in Georgia (did you know t...</td>\n",
       "      <td>b'Why Russias response to Georgia was right'</td>\n",
       "      <td>b'Gorbachev accuses U.S. of making a \"serious ...</td>\n",
       "      <td>b'Russia, Georgia, and NATO: Cold War Two'</td>\n",
       "      <td>b'Remember that adorable 62-year-old who led y...</td>\n",
       "      <td>b'War in Georgia: The Israeli connection'</td>\n",
       "      <td>b'All signs point to the US encouraging Georgi...</td>\n",
       "      <td>b'Christopher King argues that the US and NATO...</td>\n",
       "      <td>b'America: The New Mexico?'</td>\n",
       "      <td>b\"BBC NEWS | Asia-Pacific | Extinction 'by man...</td>\n",
       "    </tr>\n",
       "    <tr>\n",
       "      <th>3</th>\n",
       "      <td>2008-08-13</td>\n",
       "      <td>0</td>\n",
       "      <td>b' U.S. refuses Israel weapons to attack Iran:...</td>\n",
       "      <td>b\"When the president ordered to attack Tskhinv...</td>\n",
       "      <td>b' Israel clears troops who killed Reuters cam...</td>\n",
       "      <td>b'Britain\\'s policy of being tough on drugs is...</td>\n",
       "      <td>b'Body of 14 year old found in trunk; Latest (...</td>\n",
       "      <td>b'China has moved 10 *million* quake survivors...</td>\n",
       "      <td>b\"Bush announces Operation Get All Up In Russi...</td>\n",
       "      <td>b'Russian forces sink Georgian ships '</td>\n",
       "      <td>...</td>\n",
       "      <td>b'Elephants extinct by 2020?'</td>\n",
       "      <td>b'US humanitarian missions soon in Georgia - i...</td>\n",
       "      <td>b\"Georgia's DDOS came from US sources\"</td>\n",
       "      <td>b'Russian convoy heads into Georgia, violating...</td>\n",
       "      <td>b'Israeli defence minister: US against strike ...</td>\n",
       "      <td>b'Gorbachev: We Had No Choice'</td>\n",
       "      <td>b'Witness: Russian forces head towards Tbilisi...</td>\n",
       "      <td>b' Quarter of Russians blame U.S. for conflict...</td>\n",
       "      <td>b'Georgian president  says US military will ta...</td>\n",
       "      <td>b'2006: Nobel laureate Aleksander Solzhenitsyn...</td>\n",
       "    </tr>\n",
       "    <tr>\n",
       "      <th>4</th>\n",
       "      <td>2008-08-14</td>\n",
       "      <td>1</td>\n",
       "      <td>b'All the experts admit that we should legalis...</td>\n",
       "      <td>b'War in South Osetia - 89 pictures made by a ...</td>\n",
       "      <td>b'Swedish wrestler Ara Abrahamian throws away ...</td>\n",
       "      <td>b'Russia exaggerated the death toll in South O...</td>\n",
       "      <td>b'Missile That Killed 9 Inside Pakistan May Ha...</td>\n",
       "      <td>b\"Rushdie Condemns Random House's Refusal to P...</td>\n",
       "      <td>b'Poland and US agree to missle defense deal. ...</td>\n",
       "      <td>b'Will the Russians conquer Tblisi? Bet on it,...</td>\n",
       "      <td>...</td>\n",
       "      <td>b'Bank analyst forecast Georgian crisis 2 days...</td>\n",
       "      <td>b\"Georgia confict could set back Russia's US r...</td>\n",
       "      <td>b'War in the Caucasus is as much the product o...</td>\n",
       "      <td>b'\"Non-media\" photos of South Ossetia/Georgia ...</td>\n",
       "      <td>b'Georgian TV reporter shot by Russian sniper ...</td>\n",
       "      <td>b'Saudi Arabia: Mother moves to block child ma...</td>\n",
       "      <td>b'Taliban wages war on humanitarian aid workers'</td>\n",
       "      <td>b'Russia: World  \"can forget about\" Georgia\\'s...</td>\n",
       "      <td>b'Darfur rebels accuse Sudan of mounting major...</td>\n",
       "      <td>b'Philippines : Peace Advocate say Muslims nee...</td>\n",
       "    </tr>\n",
       "  </tbody>\n",
       "</table>\n",
       "<p>5 rows × 27 columns</p>\n",
       "</div>"
      ],
      "text/plain": [
       "         Date  Label                                               Top1  \\\n",
       "0  2008-08-08      0  b\"Georgia 'downs two Russian warplanes' as cou...   \n",
       "1  2008-08-11      1  b'Why wont America and Nato help us? If they w...   \n",
       "2  2008-08-12      0  b'Remember that adorable 9-year-old who sang a...   \n",
       "3  2008-08-13      0  b' U.S. refuses Israel weapons to attack Iran:...   \n",
       "4  2008-08-14      1  b'All the experts admit that we should legalis...   \n",
       "\n",
       "                                                Top2  \\\n",
       "0            b'BREAKING: Musharraf to be impeached.'   \n",
       "1        b'Bush puts foot down on Georgian conflict'   \n",
       "2                 b\"Russia 'ends Georgia operation'\"   \n",
       "3  b\"When the president ordered to attack Tskhinv...   \n",
       "4  b'War in South Osetia - 89 pictures made by a ...   \n",
       "\n",
       "                                                Top3  \\\n",
       "0  b'Russia Today: Columns of troops roll into So...   \n",
       "1  b\"Jewish Georgian minister: Thanks to Israeli ...   \n",
       "2  b'\"If we had no sexual harassment we would hav...   \n",
       "3  b' Israel clears troops who killed Reuters cam...   \n",
       "4  b'Swedish wrestler Ara Abrahamian throws away ...   \n",
       "\n",
       "                                                Top4  \\\n",
       "0  b'Russian tanks are moving towards the capital...   \n",
       "1  b'Georgian army flees in disarray as Russians ...   \n",
       "2  b\"Al-Qa'eda is losing support in Iraq because ...   \n",
       "3  b'Britain\\'s policy of being tough on drugs is...   \n",
       "4  b'Russia exaggerated the death toll in South O...   \n",
       "\n",
       "                                                Top5  \\\n",
       "0  b\"Afghan children raped with 'impunity,' U.N. ...   \n",
       "1      b\"Olympic opening ceremony fireworks 'faked'\"   \n",
       "2  b'Ceasefire in Georgia: Putin Outmaneuvers the...   \n",
       "3  b'Body of 14 year old found in trunk; Latest (...   \n",
       "4  b'Missile That Killed 9 Inside Pakistan May Ha...   \n",
       "\n",
       "                                                Top6  \\\n",
       "0  b'150 Russian tanks have entered South Ossetia...   \n",
       "1  b'What were the Mossad with fraudulent New Zea...   \n",
       "2  b'Why Microsoft and Intel tried to kill the XO...   \n",
       "3  b'China has moved 10 *million* quake survivors...   \n",
       "4  b\"Rushdie Condemns Random House's Refusal to P...   \n",
       "\n",
       "                                                Top7  \\\n",
       "0  b\"Breaking: Georgia invades South Ossetia, Rus...   \n",
       "1  b'Russia angered by Israeli military sale to G...   \n",
       "2  b'Stratfor: The Russo-Georgian War and the Bal...   \n",
       "3  b\"Bush announces Operation Get All Up In Russi...   \n",
       "4  b'Poland and US agree to missle defense deal. ...   \n",
       "\n",
       "                                                Top8  \\\n",
       "0  b\"The 'enemy combatent' trials are nothing but...   \n",
       "1  b'An American citizen living in S.Ossetia blam...   \n",
       "2  b\"I'm Trying to Get a Sense of This Whole Geor...   \n",
       "3             b'Russian forces sink Georgian ships '   \n",
       "4  b'Will the Russians conquer Tblisi? Bet on it,...   \n",
       "\n",
       "                         ...                          \\\n",
       "0                        ...                           \n",
       "1                        ...                           \n",
       "2                        ...                           \n",
       "3                        ...                           \n",
       "4                        ...                           \n",
       "\n",
       "                                               Top16  \\\n",
       "0  b'Georgia Invades South Ossetia - if Russia ge...   \n",
       "1  b'Israel and the US behind the Georgian aggres...   \n",
       "2  b'U.S. troops still in Georgia (did you know t...   \n",
       "3                      b'Elephants extinct by 2020?'   \n",
       "4  b'Bank analyst forecast Georgian crisis 2 days...   \n",
       "\n",
       "                                               Top17  \\\n",
       "0                b'Al-Qaeda Faces Islamist Backlash'   \n",
       "1  b'\"Do not believe TV, neither Russian nor Geor...   \n",
       "2       b'Why Russias response to Georgia was right'   \n",
       "3  b'US humanitarian missions soon in Georgia - i...   \n",
       "4  b\"Georgia confict could set back Russia's US r...   \n",
       "\n",
       "                                               Top18  \\\n",
       "0  b'Condoleezza Rice: \"The US would not act to p...   \n",
       "1  b'Riots are still going on in Montreal (Canada...   \n",
       "2  b'Gorbachev accuses U.S. of making a \"serious ...   \n",
       "3             b\"Georgia's DDOS came from US sources\"   \n",
       "4  b'War in the Caucasus is as much the product o...   \n",
       "\n",
       "                                               Top19  \\\n",
       "0  b'This is a busy day:  The European Union has ...   \n",
       "1    b'China to overtake US as largest manufacturer'   \n",
       "2         b'Russia, Georgia, and NATO: Cold War Two'   \n",
       "3  b'Russian convoy heads into Georgia, violating...   \n",
       "4  b'\"Non-media\" photos of South Ossetia/Georgia ...   \n",
       "\n",
       "                                               Top20  \\\n",
       "0  b\"Georgia will withdraw 1,000 soldiers from Ir...   \n",
       "1                     b'War in South Ossetia [PICS]'   \n",
       "2  b'Remember that adorable 62-year-old who led y...   \n",
       "3  b'Israeli defence minister: US against strike ...   \n",
       "4  b'Georgian TV reporter shot by Russian sniper ...   \n",
       "\n",
       "                                               Top21  \\\n",
       "0  b'Why the Pentagon Thinks Attacking Iran is a ...   \n",
       "1  b'Israeli Physicians Group Condemns State Tort...   \n",
       "2          b'War in Georgia: The Israeli connection'   \n",
       "3                     b'Gorbachev: We Had No Choice'   \n",
       "4  b'Saudi Arabia: Mother moves to block child ma...   \n",
       "\n",
       "                                               Top22  \\\n",
       "0  b'Caucasus in crisis: Georgia invades South Os...   \n",
       "1  b' Russia has just beaten the United States ov...   \n",
       "2  b'All signs point to the US encouraging Georgi...   \n",
       "3  b'Witness: Russian forces head towards Tbilisi...   \n",
       "4   b'Taliban wages war on humanitarian aid workers'   \n",
       "\n",
       "                                               Top23  \\\n",
       "0  b'Indian shoe manufactory  - And again in a se...   \n",
       "1  b'Perhaps *the* question about the Georgia - R...   \n",
       "2  b'Christopher King argues that the US and NATO...   \n",
       "3  b' Quarter of Russians blame U.S. for conflict...   \n",
       "4  b'Russia: World  \"can forget about\" Georgia\\'s...   \n",
       "\n",
       "                                               Top24  \\\n",
       "0  b'Visitors Suffering from Mental Illnesses Ban...   \n",
       "1                 b'Russia is so much better at war'   \n",
       "2                        b'America: The New Mexico?'   \n",
       "3  b'Georgian president  says US military will ta...   \n",
       "4  b'Darfur rebels accuse Sudan of mounting major...   \n",
       "\n",
       "                                               Top25  \n",
       "0           b\"No Help for Mexico's Kidnapping Surge\"  \n",
       "1  b\"So this is what it's come to: trading sex fo...  \n",
       "2  b\"BBC NEWS | Asia-Pacific | Extinction 'by man...  \n",
       "3  b'2006: Nobel laureate Aleksander Solzhenitsyn...  \n",
       "4  b'Philippines : Peace Advocate say Muslims nee...  \n",
       "\n",
       "[5 rows x 27 columns]"
      ]
     },
     "execution_count": 3,
     "metadata": {},
     "output_type": "execute_result"
    }
   ],
   "source": [
    "import pandas as pd\n",
    "import numpy as np\n",
    "data = pd.read_csv(\"~/Desktop/2017spring/ISYE6740/project/Combined_News_DJIA.csv\")\n",
    "data.head()"
   ]
  },
  {
   "cell_type": "code",
   "execution_count": 4,
   "metadata": {
    "collapsed": false
   },
   "outputs": [],
   "source": [
    "import nltk\n",
    "# Use the punkt tokenizer\n",
    "tokenizer = nltk.data.load('tokenizers/punkt/english.pickle')"
   ]
  },
  {
   "cell_type": "code",
   "execution_count": 5,
   "metadata": {
    "collapsed": true
   },
   "outputs": [],
   "source": [
    "import re\n",
    "from nltk.corpus import stopwords\n",
    "\n",
    "#reference: https://www.kaggle.com/c/word2vec-nlp-tutorial/details/part-2-word-vectors\n",
    "def headline_to_wordlist(headline, remove_stopwords=False):\n",
    "    if pd.isnull(headline) == False:\n",
    "        headline_text = BeautifulSoup(headline).get_text()[1:]\n",
    "        headline_text = re.sub(\"[^a-zA-Z]\",\" \", headline_text)\n",
    "        words = headline_text.lower().split()\n",
    "        if remove_stopwords:\n",
    "            stops = set(stopwords.words(\"english\"))\n",
    "            words = [w for w in words if not w in stops]\n",
    "        return(words)\n",
    "    else:\n",
    "        return ''"
   ]
  },
  {
   "cell_type": "code",
   "execution_count": 6,
   "metadata": {
    "collapsed": false
   },
   "outputs": [
    {
     "data": {
      "text/plain": [
       "''"
      ]
     },
     "execution_count": 6,
     "metadata": {},
     "output_type": "execute_result"
    }
   ],
   "source": [
    "headline_to_wordlist(data.iloc[277][24])\n",
    "#data.iloc[277][20]"
   ]
  },
  {
   "cell_type": "code",
   "execution_count": 7,
   "metadata": {
    "collapsed": false
   },
   "outputs": [],
   "source": [
    "from bs4 import BeautifulSoup\n",
    "import re\n",
    "def headline_to_sentences(headline, tokenizer, remove_stopwords=False):\n",
    "    raw_sentences = tokenizer.tokenize(headline.strip())\n",
    "    sentences = []\n",
    "    for raw_sentence in raw_sentences:\n",
    "        if len(raw_sentence) > 0:\n",
    "            sentences.append(headline_to_wordlist(raw_sentence, \\\n",
    "              remove_stopwords))\n",
    "    return sentences"
   ]
  },
  {
   "cell_type": "code",
   "execution_count": 8,
   "metadata": {
    "collapsed": false
   },
   "outputs": [
    {
     "data": {
      "text/plain": [
       "True"
      ]
     },
     "execution_count": 8,
     "metadata": {},
     "output_type": "execute_result"
    }
   ],
   "source": [
    "pd.isnull(data.iloc[277][24])"
   ]
  },
  {
   "cell_type": "markdown",
   "metadata": {},
   "source": [
    "### Train-Test Split"
   ]
  },
  {
   "cell_type": "code",
   "execution_count": 9,
   "metadata": {
    "collapsed": false
   },
   "outputs": [],
   "source": [
    "train = data[data['Date'] < '2015-01-01']\n",
    "test = data[data['Date'] > '2014-12-31']\n",
    "#train.head()"
   ]
  },
  {
   "cell_type": "code",
   "execution_count": 10,
   "metadata": {
    "collapsed": false
   },
   "outputs": [
    {
     "name": "stderr",
     "output_type": "stream",
     "text": [
      "/Users/g/anaconda3/lib/python3.5/site-packages/bs4/__init__.py:181: UserWarning: No parser was explicitly specified, so I'm using the best available HTML parser for this system (\"lxml\"). This usually isn't a problem, but if you run this code on another system, or in a different virtual environment, it may use a different parser and behave differently.\n",
      "\n",
      "The code that caused this warning is on line 184 of the file /Users/g/anaconda3/lib/python3.5/runpy.py. To get rid of this warning, change code that looks like this:\n",
      "\n",
      " BeautifulSoup([your markup])\n",
      "\n",
      "to this:\n",
      "\n",
      " BeautifulSoup([your markup], \"lxml\")\n",
      "\n",
      "  markup_type=markup_type))\n"
     ]
    }
   ],
   "source": [
    "#for each day in training set, convert top headlines to sentences\n",
    "sentences = []  # Initialize an empty list of sentences\n",
    "'''For each row in training set, add the all 25 headlines to sentences.\n",
    "    Skip all the empty cells.\n",
    "'''\n",
    "for i in range(len(train)):\n",
    "    obsi = train.iloc[i]\n",
    "    for j in range(len(obsi)-2):\n",
    "        headj = obsi[2+j]\n",
    "        if pd.isnull(headj) == False:\n",
    "            headj = headj[1:]\n",
    "            sentences.append(headline_to_wordlist(headj, tokenizer)) "
   ]
  },
  {
   "cell_type": "code",
   "execution_count": 12,
   "metadata": {
    "collapsed": false
   },
   "outputs": [],
   "source": [
    "#words = [i for sentence in sentences for i in sentence]"
   ]
  },
  {
   "cell_type": "code",
   "execution_count": 13,
   "metadata": {
    "collapsed": false
   },
   "outputs": [
    {
     "name": "stderr",
     "output_type": "stream",
     "text": [
      "2017-04-29 00:43:05,970 : INFO : collecting all words and their counts\n",
      "2017-04-29 00:43:05,970 : INFO : PROGRESS: at sentence #0, processed 0 words, keeping 0 word types\n",
      "2017-04-29 00:43:06,002 : INFO : PROGRESS: at sentence #10000, processed 102108 words, keeping 15644 word types\n",
      "2017-04-29 00:43:06,037 : INFO : PROGRESS: at sentence #20000, processed 220767 words, keeping 23466 word types\n",
      "2017-04-29 00:43:06,096 : INFO : PROGRESS: at sentence #30000, processed 342887 words, keeping 29011 word types\n",
      "2017-04-29 00:43:06,145 : INFO : PROGRESS: at sentence #40000, processed 464277 words, keeping 33203 word types\n",
      "2017-04-29 00:43:06,147 : INFO : collected 33288 word types from a corpus of 467342 raw words and 40268 sentences\n",
      "2017-04-29 00:43:06,147 : INFO : Loading a fresh vocabulary\n"
     ]
    },
    {
     "name": "stdout",
     "output_type": "stream",
     "text": [
      "Training model...\n"
     ]
    },
    {
     "name": "stderr",
     "output_type": "stream",
     "text": [
      "2017-04-29 00:43:06,217 : INFO : min_count=10 retains 6730 unique words (20% of original 33288, drops 26558)\n",
      "2017-04-29 00:43:06,219 : INFO : min_count=10 leaves 405201 word corpus (86% of original 467342, drops 62141)\n",
      "2017-04-29 00:43:06,247 : INFO : deleting the raw counts dictionary of 33288 items\n",
      "2017-04-29 00:43:06,250 : INFO : sample=0.001 downsamples 17 most-common words\n",
      "2017-04-29 00:43:06,251 : INFO : downsampling leaves estimated 400303 word corpus (98.8% of prior 405201)\n",
      "2017-04-29 00:43:06,252 : INFO : estimated required memory for 6730 words and 100 dimensions: 8749000 bytes\n",
      "2017-04-29 00:43:06,280 : INFO : resetting layer weights\n",
      "2017-04-29 00:43:06,426 : INFO : training model with 4 workers on 6730 vocabulary and 100 features, using sg=0 hs=0 sample=0.001 negative=5 window=10\n",
      "2017-04-29 00:43:07,441 : INFO : PROGRESS: at 50.08% examples, 991187 words/s, in_qsize 7, out_qsize 0\n",
      "2017-04-29 00:43:08,450 : INFO : PROGRESS: at 89.03% examples, 881265 words/s, in_qsize 8, out_qsize 0\n",
      "2017-04-29 00:43:08,715 : INFO : worker thread finished; awaiting finish of 3 more threads\n",
      "2017-04-29 00:43:08,718 : INFO : worker thread finished; awaiting finish of 2 more threads\n",
      "2017-04-29 00:43:08,727 : INFO : worker thread finished; awaiting finish of 1 more threads\n",
      "2017-04-29 00:43:08,728 : INFO : worker thread finished; awaiting finish of 0 more threads\n",
      "2017-04-29 00:43:08,728 : INFO : training on 2336710 raw words (2001681 effective words) took 2.3s, 874361 effective words/s\n",
      "2017-04-29 00:43:08,732 : INFO : precomputing L2-norms of word weight vectors\n"
     ]
    }
   ],
   "source": [
    "# Set values for various parameters\n",
    "num_features = 100    # Word vector dimensionality                      \n",
    "min_word_count = 10   # Minimum word count                        \n",
    "num_workers = 4       # Number of threads to run in parallel\n",
    "context = 10           # Context window size                                                                                    \n",
    "downsampling = 1e-3   # Downsample setting for frequent words\n",
    "\n",
    "# Initialize and train the model\n",
    "from gensim.models import word2vec\n",
    "from gensim.models import Word2Vec\n",
    "print (\"Training model...\")\n",
    "model = word2vec.Word2Vec(sentences, workers=num_workers, \\\n",
    "            size=num_features, min_count = min_word_count, \\\n",
    "            window = context, sample = downsampling)\n",
    "\n",
    "model.init_sims(replace=True)"
   ]
  },
  {
   "cell_type": "code",
   "execution_count": 14,
   "metadata": {
    "collapsed": false
   },
   "outputs": [],
   "source": [
    "def makeFeatureVec(headline, model, num_features):\n",
    "    '''\n",
    "    Given any headline that contains an array of words\n",
    "    Return an average feature with length of num_features\n",
    "    '''\n",
    "    # Pre-initialize an empty numpy array (for speed)\n",
    "    featureVec = np.zeros((num_features,),dtype=\"float32\")\n",
    "\n",
    "    nwords = 0.\n",
    "    index2word_set = set(model.wv.index2word)\n",
    "\n",
    "    for word in headline:\n",
    "        if word in index2word_set: \n",
    "            nwords = nwords + 1.\n",
    "            featureVec = np.add(featureVec,model[word])\n",
    "    # Divide the result by the number of words to get the average\n",
    "    featureVec = np.divide(featureVec,nwords)\n",
    "    return featureVec\n",
    "\n",
    "\n",
    "def getAvgFeatureVecs(headlines, model, num_features=100):\n",
    "    '''\n",
    "    Given a list of headlines, convert each headline to a vector by calling makeFeatureVec \n",
    "    Return a weighted feature vector with num_features using pre-defined weights\n",
    "    '''\n",
    "    headlinesFeatureVecs = []\n",
    "    for headline in headlines:\n",
    "        if len(headline) >= 1:\n",
    "            headlinesFeatureVecs.append(makeFeatureVec(headline, model,num_features)) \n",
    "        else:\n",
    "            #for empty headline, add zeros vector instead\n",
    "            print(\"empty headline found\")\n",
    "            headlinesFeatureVecs.append(np.zeros((num_features,),dtype=\"float32\"))\n",
    "    return headlinesFeatureVecs"
   ]
  },
  {
   "cell_type": "code",
   "execution_count": 13,
   "metadata": {
    "collapsed": false
   },
   "outputs": [
    {
     "data": {
      "text/plain": [
       "[('blast', 0.9916792511940002),\n",
       " ('exploded', 0.9886888265609741),\n",
       " ('deadly', 0.987707257270813),\n",
       " ('bombers', 0.9869003891944885),\n",
       " ('feared', 0.9866073727607727),\n",
       " ('explosions', 0.9865422248840332),\n",
       " ('kashmir', 0.9846357107162476),\n",
       " ('achers', 0.9843910932540894),\n",
       " ('explosion', 0.9835927486419678),\n",
       " ('southern', 0.9830011129379272)]"
      ]
     },
     "execution_count": 13,
     "metadata": {},
     "output_type": "execute_result"
    }
   ],
   "source": [
    "#take a look at the result\n",
    "model.most_similar(\"man\")\n",
    "\n",
    "model.most_similar(\"crash\")"
   ]
  },
  {
   "cell_type": "code",
   "execution_count": 69,
   "metadata": {
    "collapsed": false
   },
   "outputs": [],
   "source": [
    "import matplotlib.pyplot as plt\n",
    "from sklearn.manifold import TSNE\n",
    "tsne = TSNE(n_components=2)\n",
    "X = model[model.wv.vocab]\n",
    "X_tsne = tsne.fit_transform(X)"
   ]
  },
  {
   "cell_type": "code",
   "execution_count": 54,
   "metadata": {
    "collapsed": false
   },
   "outputs": [],
   "source": [
    "#[i for i in vocab]"
   ]
  },
  {
   "cell_type": "code",
   "execution_count": 71,
   "metadata": {
    "collapsed": false
   },
   "outputs": [],
   "source": [
    "plt.scatter(X[:, 0], X[:, 1])\n",
    "vocab = model.wv.vocab.keys()\n",
    "vocal = [i for i in vocab]"
   ]
  },
  {
   "cell_type": "code",
   "execution_count": 87,
   "metadata": {
    "collapsed": false
   },
   "outputs": [
    {
     "data": {
      "image/png": "[encoded data removed]",
      "text/plain": [
       "<matplotlib.figure.Figure at 0x1417fdf98>"
      ]
     },
     "metadata": {},
     "output_type": "display_data"
    }
   ],
   "source": [
    "vocab_list = [i for i in vocab]\n",
    "random_idx = np.random.randint(low=0,high=6730,size=5)\n",
    "X_sub0 = [X[i,0] for i in random_idx]\n",
    "X_sub0 = [X[i,3] for i in random_idx]\n",
    "plt.xlim(-0.15,0)\n",
    "plt.ylim(-0.15,0)    \n",
    "vocab_sub = [vocab_list[i] for i in random_idx]\n",
    "for label, x, y in zip(vocab_sub, X_sub0, X_sub0):\n",
    "    plt.annotate(label, xy=(x, y), xytext=(0, 0), textcoords='offset points')\n",
    "plt.show()"
   ]
  },
  {
   "cell_type": "code",
   "execution_count": 20,
   "metadata": {
    "collapsed": false
   },
   "outputs": [
    {
     "name": "stderr",
     "output_type": "stream",
     "text": [
      "/Users/g/anaconda3/lib/python3.5/site-packages/bs4/__init__.py:181: UserWarning: No parser was explicitly specified, so I'm using the best available HTML parser for this system (\"lxml\"). This usually isn't a problem, but if you run this code on another system, or in a different virtual environment, it may use a different parser and behave differently.\n",
      "\n",
      "The code that caused this warning is on line 184 of the file /Users/g/anaconda3/lib/python3.5/runpy.py. To get rid of this warning, change code that looks like this:\n",
      "\n",
      " BeautifulSoup([your markup])\n",
      "\n",
      "to this:\n",
      "\n",
      " BeautifulSoup([your markup], \"lxml\")\n",
      "\n",
      "  markup_type=markup_type))\n",
      "/Users/g/anaconda3/lib/python3.5/site-packages/ipykernel/__main__.py:17: RuntimeWarning: invalid value encountered in true_divide\n"
     ]
    },
    {
     "name": "stdout",
     "output_type": "stream",
     "text": [
      "empty headline found\n",
      "empty headline found\n",
      "empty headline found\n",
      "empty headline found\n",
      "empty headline found\n",
      "empty headline found\n",
      "empty headline found\n",
      "empty headline found\n"
     ]
    }
   ],
   "source": [
    "#Assign different weight to each headline\n",
    "weights = [(25-i)/25 for i in range(25)]\n",
    "#weights = [1 for i in range(25)] #if all equal weights?-->worse\n",
    "x_train, x_test = [], []\n",
    "\n",
    "for row in range(len(train)):\n",
    "    #collection of top25 news for ith row\n",
    "    headlines = [headline_to_wordlist(headline,remove_stopwords=True) \\\n",
    "                 for headline in train.iloc[row,2:27]]\n",
    "    \n",
    "    #for each headline, find corresponding average feature\n",
    "    row_features = getAvgFeatureVecs(headlines, model, num_features)\n",
    "    \n",
    "    #get 25 weighted featurized vectors\n",
    "    weighted_row = np.average(row_features, axis=0, weights=weights)\n",
    "    x_train.append(weighted_row)\n",
    "\n",
    "for row in range(len(test)):\n",
    "    #collection of top25 news for ith row\n",
    "    headlines = [headline_to_wordlist(headline,remove_stopwords=True) \\\n",
    "                 for headline in test.iloc[row,2:27]]\n",
    "    \n",
    "    #for each headline, find corresponding average feature\n",
    "    row_features = getAvgFeatureVecs(headlines, model, num_features)\n",
    "    \n",
    "    #get 25 weighted featurized vectors\n",
    "    weighted_row = np.average(row_features, axis=0, weights=weights)\n",
    "    x_test.append(weighted_row)"
   ]
  },
  {
   "cell_type": "code",
   "execution_count": 21,
   "metadata": {
    "collapsed": true
   },
   "outputs": [],
   "source": [
    "y_train = np.array(train['Label']) \n",
    "y_test = np.array(test['Label'])"
   ]
  },
  {
   "cell_type": "code",
   "execution_count": 22,
   "metadata": {
    "collapsed": false
   },
   "outputs": [
    {
     "name": "stdout",
     "output_type": "stream",
     "text": [
      "training set has shape: (1611, 100)\n",
      "testing set has shape: (378, 100)\n"
     ]
    }
   ],
   "source": [
    "#np.any(np.isnan(x_train)) #contains nan\n",
    "#np.all(np.isfinite(x_train))\n",
    "\n",
    "x_train_1 = np.nan_to_num(x_train)\n",
    "x_test_1 = np.nan_to_num(x_test)\n",
    "\n",
    "print('training set has shape:',x_train_1.shape)\n",
    "print('testing set has shape:',x_test_1.shape)"
   ]
  },
  {
   "cell_type": "markdown",
   "metadata": {},
   "source": [
    "## 2.Models"
   ]
  },
  {
   "cell_type": "code",
   "execution_count": 23,
   "metadata": {
    "collapsed": false
   },
   "outputs": [],
   "source": [
    "from sklearn.model_selection import cross_val_score, TimeSeriesSplit"
   ]
  },
  {
   "cell_type": "markdown",
   "metadata": {},
   "source": [
    "### 2.1 Random Forest & Logistic Classifier & NB"
   ]
  },
  {
   "cell_type": "code",
   "execution_count": 136,
   "metadata": {
    "collapsed": false
   },
   "outputs": [],
   "source": [
    "# Fit a random forest to the training data, using 100 trees\n",
    "from sklearn.ensemble import RandomForestClassifier\n",
    "forest = RandomForestClassifier(n_estimators = 500)\n",
    "forest = forest.fit(x_train_1,y_train)"
   ]
  },
  {
   "cell_type": "code",
   "execution_count": 137,
   "metadata": {
    "collapsed": false
   },
   "outputs": [
    {
     "name": "stdout",
     "output_type": "stream",
     "text": [
      "Random forest accuracy is:  0.47619047619\n",
      "auc is:  0.473622311828\n",
      "CV score for random forest is: 0.507462686567\n"
     ]
    }
   ],
   "source": [
    "from sklearn import metrics\n",
    "pred_rf = forest.predict(x_test_1)\n",
    "rf_acc = metrics.accuracy_score(y_test, pred_rf) \n",
    "print(\"Random forest accuracy is: \", rf_acc)\n",
    "\n",
    "fpr, tpr, thresholds = metrics.roc_curve(y_test, pred_rf)\n",
    "print(\"auc is: \",metrics.auc(fpr, tpr))\n",
    "\n",
    "score = cross_val_score(forest, x_train_1, y_train, cv=TimeSeriesSplit(n_splits=3),n_jobs=-1).mean()\n",
    "print(\"CV score for random forest is:\" ,score)"
   ]
  },
  {
   "cell_type": "code",
   "execution_count": 141,
   "metadata": {
    "collapsed": false
   },
   "outputs": [],
   "source": [
    "from sklearn.linear_model import LogisticRegression\n",
    "logistic = LogisticRegression()"
   ]
  },
  {
   "cell_type": "code",
   "execution_count": 142,
   "metadata": {
    "collapsed": false
   },
   "outputs": [
    {
     "name": "stdout",
     "output_type": "stream",
     "text": [
      "Logistic regression accuracy is:  0.510582010582\n",
      "auc is:  0.502772177419\n",
      "CV score for logistic regression is: 0.539800995025\n"
     ]
    }
   ],
   "source": [
    "logistic = logistic.fit(x_train_1,y_train)\n",
    "pred_log = logistic.predict(np.nan_to_num(x_test))\n",
    "log_acc = metrics.accuracy_score(y_test, pred_log)\n",
    "print(\"Logistic regression accuracy is: \", log_acc)\n",
    "\n",
    "fpr, tpr, thresholds = metrics.roc_curve(y_test, pred_log)\n",
    "print(\"auc is: \",metrics.auc(fpr, tpr))\n",
    "\n",
    "score = cross_val_score(logistic, x_train_1, y_train, cv=TimeSeriesSplit(n_splits=3),n_jobs=-1).mean()\n",
    "print(\"CV score for logistic regression is:\" , score)"
   ]
  },
  {
   "cell_type": "code",
   "execution_count": 139,
   "metadata": {
    "collapsed": true
   },
   "outputs": [],
   "source": [
    "from sklearn.naive_bayes import BernoulliNB\n",
    "bernoulliNB = BernoulliNB()\n",
    "bernoulliNB = bernoulliNB.fit(x_train_1,y_train)"
   ]
  },
  {
   "cell_type": "code",
   "execution_count": 140,
   "metadata": {
    "collapsed": false
   },
   "outputs": [
    {
     "name": "stdout",
     "output_type": "stream",
     "text": [
      "BernoulliNB accuracy is:  0.518518518519\n",
      "auc is:  0.510836693548\n"
     ]
    }
   ],
   "source": [
    "pred_bnb = bernoulliNB.predict(np.nan_to_num(x_test))\n",
    "bnb_acc = metrics.accuracy_score(y_test, pred_bnb) \n",
    "print(\"BernoulliNB accuracy is: \", bnb_acc)\n",
    "\n",
    "fpr, tpr, thresholds = metrics.roc_curve(y_test, pred_bnb)\n",
    "print(\"auc is: \",metrics.auc(fpr, tpr))"
   ]
  },
  {
   "cell_type": "code",
   "execution_count": 43,
   "metadata": {
    "collapsed": false
   },
   "outputs": [],
   "source": [
    "from sklearn.neighbors import KNeighborsClassifier\n",
    "knn = KNeighborsClassifier(n_neighbors=9)\n",
    "knn = knn.fit(x_train_1,y_train)"
   ]
  },
  {
   "cell_type": "code",
   "execution_count": 64,
   "metadata": {
    "collapsed": false
   },
   "outputs": [
    {
     "name": "stdout",
     "output_type": "stream",
     "text": [
      "KNN accuracy is:  0.529100529101\n",
      "auc is:  0.527889784946\n"
     ]
    }
   ],
   "source": [
    "knn = KNeighborsClassifier(n_neighbors=9)\n",
    "knn = knn.fit(x_train_1,y_train)\n",
    "pred_knn = knn.predict(np.nan_to_num(x_test))\n",
    "knn_acc = metrics.accuracy_score(y_test, pred_knn) \n",
    "print(\"KNN accuracy is: \", knn_acc)\n",
    "\n",
    "fpr, tpr, thresholds = metrics.roc_curve(y_test, pred_knn)\n",
    "print(\"auc is: \",metrics.auc(fpr, tpr))"
   ]
  },
  {
   "cell_type": "markdown",
   "metadata": {},
   "source": [
    "### 2.2 Modified Word2Vec"
   ]
  },
  {
   "cell_type": "code",
   "execution_count": 46,
   "metadata": {
    "collapsed": false
   },
   "outputs": [],
   "source": [
    "#what if we add in the influence from previous k days\n",
    "X_LSTM = []\n",
    "Y_LSTM = []\n",
    "STEP_SIZE = 1\n",
    "WINDOW = 3 #k\n",
    "W = [(i+1)/(WINDOW+1) for i in range(WINDOW+1)]\n",
    "for i in range(0,len(train) - WINDOW, STEP_SIZE):\n",
    "    vectors = x_train[i : i + WINDOW + 1] #number of observations including today's\n",
    "    vector_weighted = np.average(vectors, axis=0, weights=W)\n",
    "    X_LSTM.append(vector_weighted)\n",
    "    Y_LSTM.append(y_train[i + WINDOW])\n",
    "    \n",
    "X_LSTM_train = np.array(X_LSTM)\n",
    "Y_LSTM_train = np.array(Y_LSTM)"
   ]
  },
  {
   "cell_type": "code",
   "execution_count": 47,
   "metadata": {
    "collapsed": false
   },
   "outputs": [],
   "source": [
    "X_LSTM_test = []\n",
    "Y_LSTM_test = []\n",
    "STEP_SIZE = 1\n",
    "WINDOW = 3 #k\n",
    "W = [(i+1)/(WINDOW+1) for i in range(WINDOW+1)]\n",
    "for i in range(0,len(test) - WINDOW, STEP_SIZE):\n",
    "    vectors = x_test[i : i + WINDOW + 1] #number of observations including today's\n",
    "    vector_weighted = np.average(vectors, axis=0, weights=W)\n",
    "    X_LSTM_test.append(vector_weighted)\n",
    "    Y_LSTM_test.append(y_test[i + WINDOW])\n",
    "    \n",
    "X_LSTM_test = np.array(X_LSTM_test)\n",
    "Y_LSTM_test = np.array(Y_LSTM_test)"
   ]
  },
  {
   "cell_type": "code",
   "execution_count": 48,
   "metadata": {
    "collapsed": false
   },
   "outputs": [
    {
     "name": "stdout",
     "output_type": "stream",
     "text": [
      "1608 1608\n",
      "375 375\n"
     ]
    }
   ],
   "source": [
    "print(len(X_LSTM),len(Y_LSTM)) \n",
    "print(len(X_LSTM_test),len(Y_LSTM_test))\n",
    "X_LSTM_train_1 = np.nan_to_num(X_LSTM_train)\n",
    "X_LSTM_test_1 = np.nan_to_num(X_LSTM_test)"
   ]
  },
  {
   "cell_type": "code",
   "execution_count": 152,
   "metadata": {
    "collapsed": false
   },
   "outputs": [],
   "source": [
    "# Fit a random forest to the training data, using 100 trees\n",
    "from sklearn.ensemble import RandomForestClassifier\n",
    "forest = RandomForestClassifier(n_estimators = 500,max_features=None,max_depth=20,random_state=123456)\n",
    "forest = forest.fit(X_LSTM_train_1,Y_LSTM_train)"
   ]
  },
  {
   "cell_type": "code",
   "execution_count": 153,
   "metadata": {
    "collapsed": false
   },
   "outputs": [
    {
     "name": "stdout",
     "output_type": "stream",
     "text": [
      "accuracy is:  0.469333333333\n",
      "auc is:  0.466110858183\n"
     ]
    }
   ],
   "source": [
    "from sklearn import metrics\n",
    "pred_rf = forest.predict(np.nan_to_num(X_LSTM_test_1))\n",
    "print(\"accuracy is: \",metrics.accuracy_score(Y_LSTM_test, pred_rf)) \n",
    "\n",
    "fpr, tpr, thresholds = metrics.roc_curve(Y_LSTM_test, pred_rf)\n",
    "print(\"auc is: \",metrics.auc(fpr, tpr))"
   ]
  },
  {
   "cell_type": "code",
   "execution_count": 311,
   "metadata": {
    "collapsed": false
   },
   "outputs": [
    {
     "name": "stdout",
     "output_type": "stream",
     "text": [
      "CV score for random forest is: 0.508816120907\n"
     ]
    }
   ],
   "source": [
    "score = cross_val_score(forest, X_LSTM_train_1, Y_LSTM_train, cv=TimeSeriesSplit(n_splits=3),n_jobs=-1).mean()\n",
    "print(\"CV score for random forest is:\" ,score)"
   ]
  },
  {
   "cell_type": "code",
   "execution_count": 154,
   "metadata": {
    "collapsed": true
   },
   "outputs": [],
   "source": [
    "from sklearn.linear_model import LogisticRegression\n",
    "logistic = LogisticRegression(C = 1,penalty=\"l1\",random_state=123456)\n",
    "logistic = logistic.fit(X_LSTM_train_1,Y_LSTM_train)"
   ]
  },
  {
   "cell_type": "code",
   "execution_count": 155,
   "metadata": {
    "collapsed": false
   },
   "outputs": [
    {
     "name": "stdout",
     "output_type": "stream",
     "text": [
      "accuracy is:  0.509333333333\n",
      "auc is:  0.5\n"
     ]
    }
   ],
   "source": [
    "pred_log = logistic.predict(X_LSTM_test_1)\n",
    "print(\"accuracy is: \",metrics.accuracy_score(Y_LSTM_test, pred_log)) \n",
    "\n",
    "fpr, tpr, thresholds = metrics.roc_curve(Y_LSTM_test, pred_log)\n",
    "print(\"auc is: \",metrics.auc(fpr, tpr))"
   ]
  },
  {
   "cell_type": "code",
   "execution_count": 156,
   "metadata": {
    "collapsed": false
   },
   "outputs": [
    {
     "name": "stdout",
     "output_type": "stream",
     "text": [
      "CV score for logistic regression is: 0.544776119403\n"
     ]
    }
   ],
   "source": [
    "score = cross_val_score(logistic, X_LSTM_train_1, Y_LSTM_train, cv=TimeSeriesSplit(n_splits=3),n_jobs=-1).mean()\n",
    "print(\"CV score for logistic regression is:\" , score)"
   ]
  },
  {
   "cell_type": "code",
   "execution_count": 157,
   "metadata": {
    "collapsed": false
   },
   "outputs": [],
   "source": [
    "from sklearn.naive_bayes import BernoulliNB\n",
    "bernoulliNB = BernoulliNB(alpha = 1)\n",
    "bernoulliNB = bernoulliNB.fit(X_LSTM_train_1,Y_LSTM_train)"
   ]
  },
  {
   "cell_type": "code",
   "execution_count": 158,
   "metadata": {
    "collapsed": false
   },
   "outputs": [
    {
     "name": "stdout",
     "output_type": "stream",
     "text": [
      "accuracy is:  0.528\n",
      "auc is:  0.519718870931\n"
     ]
    }
   ],
   "source": [
    "pred_bnb = bernoulliNB.predict(X_LSTM_test_1)\n",
    "print(\"accuracy is: \",metrics.accuracy_score(Y_LSTM_test, pred_bnb)) \n",
    "\n",
    "fpr, tpr, thresholds = metrics.roc_curve(Y_LSTM_test, pred_bnb)\n",
    "print(\"auc is: \",metrics.auc(fpr, tpr))"
   ]
  },
  {
   "cell_type": "code",
   "execution_count": 58,
   "metadata": {
    "collapsed": false
   },
   "outputs": [
    {
     "name": "stdout",
     "output_type": "stream",
     "text": [
      "KNN accuracy is:  0.504\n",
      "auc is:  0.501835306169\n"
     ]
    }
   ],
   "source": [
    "knn = KNeighborsClassifier(n_neighbors=13)\n",
    "knn = knn.fit(X_LSTM_train_1,Y_LSTM_train)\n",
    "pred_knn = knn.predict(np.nan_to_num(X_LSTM_test_1))\n",
    "knn_acc = metrics.accuracy_score(Y_LSTM_test, pred_knn) \n",
    "print(\"KNN accuracy is: \", knn_acc)\n",
    "\n",
    "fpr, tpr, thresholds = metrics.roc_curve(Y_LSTM_test, pred_knn)\n",
    "print(\"auc is: \",metrics.auc(fpr, tpr))"
   ]
  },
  {
   "cell_type": "code",
   "execution_count": 65,
   "metadata": {
    "collapsed": false
   },
   "outputs": [],
   "source": [
    "from sklearn.metrics import confusion_matrix\n",
    "#cnf_matrix = confusion_matrix(Y_LSTM_test, pred_bnb)\n",
    "cnf_matrix = confusion_matrix(y_test, pred_knn)"
   ]
  },
  {
   "cell_type": "code",
   "execution_count": 68,
   "metadata": {
    "collapsed": false
   },
   "outputs": [
    {
     "name": "stdout",
     "output_type": "stream",
     "text": [
      "Confusion matrix, without normalization\n",
      "[[ 84 102]\n",
      " [ 76 116]]\n"
     ]
    },
    {
     "data": {
      "image/png": "[encoded data removed]",
      "text/plain": [
       "<matplotlib.figure.Figure at 0x142d49748>"
      ]
     },
     "metadata": {},
     "output_type": "display_data"
    }
   ],
   "source": [
    "import itertools\n",
    "def plot_confusion_matrix(cm, classes,\n",
    "                          normalize=False,\n",
    "                          title='Confusion matrix',\n",
    "                          cmap=plt.cm.Reds):\n",
    "    \"\"\"\n",
    "    This function prints and plots the confusion matrix.\n",
    "    Normalization can be applied by setting `normalize=True`.\n",
    "    \"\"\"\n",
    "    plt.imshow(cm, interpolation='nearest', cmap=cmap)\n",
    "    plt.title(title)\n",
    "    plt.colorbar()\n",
    "    tick_marks = np.arange(len(classes))\n",
    "    plt.xticks(tick_marks, classes, rotation=45)\n",
    "    plt.yticks(tick_marks, classes)\n",
    "\n",
    "    if normalize:\n",
    "        cm = cm.astype('float') / cm.sum(axis=1)[:, np.newaxis]\n",
    "        print(\"Normalized confusion matrix\")\n",
    "    else:\n",
    "        print('Confusion matrix, without normalization')\n",
    "\n",
    "    print(cm)\n",
    "\n",
    "    thresh = cm.max() / 1.5\n",
    "    for i, j in itertools.product(range(cm.shape[0]), range(cm.shape[1])):\n",
    "        plt.text(j, i, cm[i, j],\n",
    "                 horizontalalignment=\"center\",\n",
    "                 color=\"white\" if cm[i, j] > thresh else \"black\")\n",
    "\n",
    "    plt.tight_layout()\n",
    "    plt.ylabel('True label')\n",
    "    plt.xlabel('Predicted label')\n",
    "\n",
    "np.set_printoptions(precision=2)\n",
    "\n",
    "# Plot non-normalized confusion matrix\n",
    "plt.figure()\n",
    "plot_confusion_matrix(cnf_matrix,['class 0','class 1'], title='Confusion matrix')\n",
    "plt.show()"
   ]
  },
  {
   "cell_type": "code",
   "execution_count": 63,
   "metadata": {
    "collapsed": false
   },
   "outputs": [
    {
     "ename": "NameError",
     "evalue": "name 'bernoulliNB' is not defined",
     "output_type": "error",
     "traceback": [
      "\u001b[0;31m---------------------------------------------------------------------------\u001b[0m",
      "\u001b[0;31mNameError\u001b[0m                                 Traceback (most recent call last)",
      "\u001b[0;32m<ipython-input-63-196027581ee6>\u001b[0m in \u001b[0;36m<module>\u001b[0;34m()\u001b[0m\n\u001b[0;32m----> 1\u001b[0;31m \u001b[0mpred_bnb_prob\u001b[0m \u001b[0;34m=\u001b[0m \u001b[0mbernoulliNB\u001b[0m\u001b[0;34m.\u001b[0m\u001b[0mpredict_proba\u001b[0m\u001b[0;34m(\u001b[0m\u001b[0mX_LSTM_test_1\u001b[0m\u001b[0;34m)\u001b[0m\u001b[0;34m\u001b[0m\u001b[0m\n\u001b[0m\u001b[1;32m      2\u001b[0m \u001b[0mpred_bnb_prob\u001b[0m\u001b[0;34m\u001b[0m\u001b[0m\n",
      "\u001b[0;31mNameError\u001b[0m: name 'bernoulliNB' is not defined"
     ]
    }
   ],
   "source": [
    "pred_bnb_prob = bernoulliNB.predict_proba(X_LSTM_test_1)\n",
    "pred_bnb_prob"
   ]
  },
  {
   "cell_type": "code",
   "execution_count": 165,
   "metadata": {
    "collapsed": false
   },
   "outputs": [
    {
     "name": "stderr",
     "output_type": "stream",
     "text": [
      "/Users/g/anaconda3/lib/python3.5/site-packages/matplotlib/axes/_axes.py:531: UserWarning: No labelled objects found. Use label='...' kwarg on individual plots.\n",
      "  warnings.warn(\"No labelled objects found. \"\n"
     ]
    },
    {
     "data": {
      "image/png": "[encoded data removed]",
      "text/plain": [
       "<matplotlib.figure.Figure at 0x11c29ebe0>"
      ]
     },
     "metadata": {},
     "output_type": "display_data"
    }
   ],
   "source": [
    "import matplotlib.pyplot as plt\n",
    "plt.title('ROC Curve for BernoulliNB w/ Modified W2V')\n",
    "plt.plot(pred_bnb_prob)\n",
    "plt.legend(loc = 'lower right')\n",
    "plt.plot([0, 1], [0, 1],'r--')\n",
    "plt.xlim([0, 1])\n",
    "plt.ylim([0, 1])\n",
    "plt.ylabel('True Positive Rate')\n",
    "plt.xlabel('False Positive Rate')\n",
    "plt.show()"
   ]
  },
  {
   "cell_type": "markdown",
   "metadata": {},
   "source": [
    "### 2.3 LSTM"
   ]
  },
  {
   "cell_type": "code",
   "execution_count": 82,
   "metadata": {
    "collapsed": false
   },
   "outputs": [],
   "source": [
    "from keras.models import Sequential\n",
    "from keras.layers import Dense\n",
    "from keras.layers import LSTM, GRU\n",
    "from keras import regularizers \n",
    "from keras.layers import Dropout\n",
    "from keras.layers.embeddings import Embedding\n",
    "from keras import optimizers"
   ]
  },
  {
   "cell_type": "code",
   "execution_count": 410,
   "metadata": {
    "collapsed": true
   },
   "outputs": [],
   "source": [
    "X_LSTM = []\n",
    "Y_LSTM = []\n",
    "STEP_SIZE = 1\n",
    "WINDOW = 2 \n",
    "\n",
    "for i in range(0,len(train) - WINDOW, STEP_SIZE):\n",
    "    vectors = x_train[i : i + WINDOW] #number of observations including today's\n",
    "    X_LSTM.append(vectors)\n",
    "    Y_LSTM.append(y_train[i + WINDOW])\n",
    "    \n",
    "X_LSTM = np.array(X_LSTM)\n",
    "Y_LSTM = np.array(Y_LSTM)\n",
    "\n",
    "X_LSTM_test = []\n",
    "Y_LSTM_test = []\n",
    "\n",
    "for i in range(0,len(test) - WINDOW, STEP_SIZE):\n",
    "    vectors = x_test[i : i + WINDOW] #number of observations including today's\n",
    "    X_LSTM_test.append(vector)\n",
    "    Y_LSTM_test.append(y_test[i + WINDOW])\n",
    "    \n",
    "X_LSTM_test = np.array(X_LSTM_test)\n",
    "Y_LSTM_test = np.array(Y_LSTM_test)"
   ]
  },
  {
   "cell_type": "code",
   "execution_count": 411,
   "metadata": {
    "collapsed": false
   },
   "outputs": [
    {
     "name": "stdout",
     "output_type": "stream",
     "text": [
      "_________________________________________________________________\n",
      "Layer (type)                 Output Shape              Param #   \n",
      "=================================================================\n",
      "gru_51 (GRU)                 (None, 1)                 306       \n",
      "_________________________________________________________________\n",
      "dropout_51 (Dropout)         (None, 1)                 0         \n",
      "_________________________________________________________________\n",
      "dense_51 (Dense)             (None, 1)                 2         \n",
      "=================================================================\n",
      "Total params: 308\n",
      "Trainable params: 308\n",
      "Non-trainable params: 0\n",
      "_________________________________________________________________\n",
      "None\n",
      "Train on 1609 samples, validate on 376 samples\n",
      "Epoch 1/1\n",
      "1609/1609 [==============================] - 6s - loss: 37140.2617 - acc: 0.4953 - val_loss: nan - val_acc: 0.0000e+00\n"
     ]
    },
    {
     "data": {
      "text/plain": [
       "<keras.callbacks.History at 0x18a59c438>"
      ]
     },
     "execution_count": 411,
     "metadata": {},
     "output_type": "execute_result"
    }
   ],
   "source": [
    "model = Sequential()\n",
    "model.add(GRU(1,input_shape=(X_LSTM.shape[1], X_LSTM.shape[2]),\\\n",
    "              kernel_regularizer=regularizers.l1(1e3)))\n",
    "model.add(Dropout(0.3))\n",
    "model.add(Dense(1, activation='sigmoid'))\n",
    "sgd = optimizers.SGD(lr=0.01, decay=0.1, momentum=1000, nesterov=True, clipnorm=0.1)\n",
    "model.compile(loss='binary_crossentropy', optimizer=\"adam\", metrics=['acc'])\n",
    "print(model.summary())\n",
    "model.fit(X_LSTM, Y_LSTM, epochs=1, batch_size=X_LSTM.shape[0], validation_data=(X_LSTM_test, Y_LSTM_test))"
   ]
  },
  {
   "cell_type": "code",
   "execution_count": null,
   "metadata": {
    "collapsed": false
   },
   "outputs": [],
   "source": [
    "classes = model.predict_classes(X_LSTM, batch_size=X_LSTM.shape[0])\n",
    "classes[0]"
   ]
  },
  {
   "cell_type": "markdown",
   "metadata": {},
   "source": [
    "## 3.Tuning Parameters"
   ]
  },
  {
   "cell_type": "markdown",
   "metadata": {},
   "source": [
    "### Random Forest: tune max_features & n_estimators---Grid Search"
   ]
  },
  {
   "cell_type": "code",
   "execution_count": 375,
   "metadata": {
    "collapsed": false
   },
   "outputs": [
    {
     "name": "stdout",
     "output_type": "stream",
     "text": [
      "Random forest CV score with n equals to 100 f equals to 5 is: 0.507462686567\n",
      "Random forest CV score with n equals to 200 f equals to 5 is: 0.50912106136\n",
      "Random forest CV score with n equals to 300 f equals to 5 is: 0.501658374793\n",
      "Random forest CV score with n equals to 400 f equals to 5 is: 0.500829187396\n",
      "Random forest CV score with n equals to 500 f equals to 5 is: 0.499170812604\n",
      "Random forest CV score with n equals to 600 f equals to 5 is: 0.498341625207\n",
      "Random forest CV score with n equals to 700 f equals to 5 is: 0.502487562189\n",
      "Random forest CV score with n equals to 800 f equals to 5 is: 0.499170812604\n",
      "Random forest CV score with n equals to 900 f equals to 5 is: 0.491708126036\n",
      "Random forest CV score with n equals to 100 f equals to 10 is: 0.513266998342\n",
      "Random forest CV score with n equals to 200 f equals to 10 is: 0.496683250415\n",
      "Random forest CV score with n equals to 300 f equals to 10 is: 0.503316749585\n",
      "Random forest CV score with n equals to 400 f equals to 10 is: 0.507462686567\n",
      "Random forest CV score with n equals to 500 f equals to 10 is: 0.506633499171\n",
      "Random forest CV score with n equals to 600 f equals to 10 is: 0.506633499171\n",
      "Random forest CV score with n equals to 700 f equals to 10 is: 0.506633499171\n",
      "Random forest CV score with n equals to 800 f equals to 10 is: 0.507462686567\n",
      "Random forest CV score with n equals to 900 f equals to 10 is: 0.510779436153\n",
      "Random forest CV score with n equals to 100 f equals to 15 is: 0.497512437811\n",
      "Random forest CV score with n equals to 200 f equals to 15 is: 0.50912106136\n",
      "Random forest CV score with n equals to 300 f equals to 15 is: 0.511608623549\n",
      "Random forest CV score with n equals to 400 f equals to 15 is: 0.508291873964\n",
      "Random forest CV score with n equals to 500 f equals to 15 is: 0.504975124378\n",
      "Random forest CV score with n equals to 600 f equals to 15 is: 0.504975124378\n",
      "Random forest CV score with n equals to 700 f equals to 15 is: 0.508291873964\n",
      "Random forest CV score with n equals to 800 f equals to 15 is: 0.502487562189\n",
      "Random forest CV score with n equals to 900 f equals to 15 is: 0.502487562189\n",
      "Random forest CV score with n equals to 100 f equals to 20 is: 0.520729684909\n",
      "Random forest CV score with n equals to 200 f equals to 20 is: 0.509950248756\n",
      "Random forest CV score with n equals to 300 f equals to 20 is: 0.516583747927\n",
      "Random forest CV score with n equals to 400 f equals to 20 is: 0.510779436153\n",
      "Random forest CV score with n equals to 500 f equals to 20 is: 0.516583747927\n",
      "Random forest CV score with n equals to 600 f equals to 20 is: 0.513266998342\n",
      "Random forest CV score with n equals to 700 f equals to 20 is: 0.506633499171\n",
      "Random forest CV score with n equals to 800 f equals to 20 is: 0.517412935323\n",
      "Random forest CV score with n equals to 900 f equals to 20 is: 0.516583747927\n",
      "Random forest CV score with n equals to 100 f equals to 25 is: 0.499170812604\n",
      "Random forest CV score with n equals to 200 f equals to 25 is: 0.507462686567\n",
      "Random forest CV score with n equals to 300 f equals to 25 is: 0.512437810945\n",
      "Random forest CV score with n equals to 400 f equals to 25 is: 0.50912106136\n",
      "Random forest CV score with n equals to 500 f equals to 25 is: 0.516583747927\n",
      "Random forest CV score with n equals to 600 f equals to 25 is: 0.514925373134\n",
      "Random forest CV score with n equals to 700 f equals to 25 is: 0.507462686567\n",
      "Random forest CV score with n equals to 800 f equals to 25 is: 0.508291873964\n",
      "Random forest CV score with n equals to 900 f equals to 25 is: 0.510779436153\n",
      "Random forest CV score with n equals to 100 f equals to 30 is: 0.502487562189\n",
      "Random forest CV score with n equals to 200 f equals to 30 is: 0.512437810945\n",
      "Random forest CV score with n equals to 300 f equals to 30 is: 0.504145936982\n",
      "Random forest CV score with n equals to 400 f equals to 30 is: 0.503316749585\n",
      "Random forest CV score with n equals to 500 f equals to 30 is: 0.507462686567\n",
      "Random forest CV score with n equals to 600 f equals to 30 is: 0.508291873964\n",
      "Random forest CV score with n equals to 700 f equals to 30 is: 0.507462686567\n",
      "Random forest CV score with n equals to 800 f equals to 30 is: 0.50912106136\n",
      "Random forest CV score with n equals to 900 f equals to 30 is: 0.507462686567\n",
      "Random forest CV score with n equals to 100 f equals to 35 is: 0.505804311774\n",
      "Random forest CV score with n equals to 200 f equals to 35 is: 0.502487562189\n",
      "Random forest CV score with n equals to 300 f equals to 35 is: 0.50912106136\n",
      "Random forest CV score with n equals to 400 f equals to 35 is: 0.492537313433\n",
      "Random forest CV score with n equals to 500 f equals to 35 is: 0.494195688226\n",
      "Random forest CV score with n equals to 600 f equals to 35 is: 0.5\n",
      "Random forest CV score with n equals to 700 f equals to 35 is: 0.497512437811\n",
      "Random forest CV score with n equals to 800 f equals to 35 is: 0.504145936982\n",
      "Random forest CV score with n equals to 900 f equals to 35 is: 0.504145936982\n",
      "Random forest CV score with n equals to 100 f equals to 40 is: 0.513266998342\n",
      "Random forest CV score with n equals to 200 f equals to 40 is: 0.508291873964\n",
      "Random forest CV score with n equals to 300 f equals to 40 is: 0.513266998342\n",
      "Random forest CV score with n equals to 400 f equals to 40 is: 0.512437810945\n",
      "Random forest CV score with n equals to 500 f equals to 40 is: 0.520729684909\n",
      "Random forest CV score with n equals to 600 f equals to 40 is: 0.516583747927\n",
      "Random forest CV score with n equals to 700 f equals to 40 is: 0.514925373134\n",
      "Random forest CV score with n equals to 800 f equals to 40 is: 0.512437810945\n",
      "Random forest CV score with n equals to 900 f equals to 40 is: 0.516583747927\n",
      "Random forest CV score with n equals to 100 f equals to 45 is: 0.501658374793\n",
      "Random forest CV score with n equals to 200 f equals to 45 is: 0.504145936982\n",
      "Random forest CV score with n equals to 300 f equals to 45 is: 0.509950248756\n",
      "Random forest CV score with n equals to 400 f equals to 45 is: 0.503316749585\n",
      "Random forest CV score with n equals to 500 f equals to 45 is: 0.506633499171\n",
      "Random forest CV score with n equals to 600 f equals to 45 is: 0.504975124378\n",
      "Random forest CV score with n equals to 700 f equals to 45 is: 0.502487562189\n",
      "Random forest CV score with n equals to 800 f equals to 45 is: 0.509950248756\n",
      "Random forest CV score with n equals to 900 f equals to 45 is: 0.511608623549\n",
      "Random forest CV score with n equals to 100 f equals to 50 is: 0.509950248756\n",
      "Random forest CV score with n equals to 200 f equals to 50 is: 0.50912106136\n",
      "Random forest CV score with n equals to 300 f equals to 50 is: 0.512437810945\n",
      "Random forest CV score with n equals to 400 f equals to 50 is: 0.509950248756\n",
      "Random forest CV score with n equals to 500 f equals to 50 is: 0.507462686567\n",
      "Random forest CV score with n equals to 600 f equals to 50 is: 0.511608623549\n",
      "Random forest CV score with n equals to 700 f equals to 50 is: 0.502487562189\n",
      "Random forest CV score with n equals to 800 f equals to 50 is: 0.503316749585\n",
      "Random forest CV score with n equals to 900 f equals to 50 is: 0.505804311774\n",
      "Random forest CV score with n equals to 100 f equals to 55 is: 0.504975124378\n",
      "Random forest CV score with n equals to 200 f equals to 55 is: 0.5\n",
      "Random forest CV score with n equals to 300 f equals to 55 is: 0.504975124378\n",
      "Random forest CV score with n equals to 400 f equals to 55 is: 0.504975124378\n",
      "Random forest CV score with n equals to 500 f equals to 55 is: 0.498341625207\n",
      "Random forest CV score with n equals to 600 f equals to 55 is: 0.498341625207\n",
      "Random forest CV score with n equals to 700 f equals to 55 is: 0.496683250415\n",
      "Random forest CV score with n equals to 800 f equals to 55 is: 0.504145936982\n",
      "Random forest CV score with n equals to 900 f equals to 55 is: 0.502487562189\n",
      "Random forest CV score with n equals to 100 f equals to 60 is: 0.503316749585\n",
      "Random forest CV score with n equals to 200 f equals to 60 is: 0.503316749585\n",
      "Random forest CV score with n equals to 300 f equals to 60 is: 0.510779436153\n",
      "Random forest CV score with n equals to 400 f equals to 60 is: 0.514925373134\n",
      "Random forest CV score with n equals to 500 f equals to 60 is: 0.513266998342\n",
      "Random forest CV score with n equals to 600 f equals to 60 is: 0.507462686567\n",
      "Random forest CV score with n equals to 700 f equals to 60 is: 0.501658374793\n",
      "Random forest CV score with n equals to 800 f equals to 60 is: 0.511608623549\n",
      "Random forest CV score with n equals to 900 f equals to 60 is: 0.505804311774\n",
      "Random forest CV score with n equals to 100 f equals to 65 is: 0.523217247098\n",
      "Random forest CV score with n equals to 200 f equals to 65 is: 0.521558872305\n",
      "Random forest CV score with n equals to 300 f equals to 65 is: 0.506633499171\n",
      "Random forest CV score with n equals to 400 f equals to 65 is: 0.50912106136\n",
      "Random forest CV score with n equals to 500 f equals to 65 is: 0.502487562189\n",
      "Random forest CV score with n equals to 600 f equals to 65 is: 0.504145936982\n",
      "Random forest CV score with n equals to 700 f equals to 65 is: 0.503316749585\n",
      "Random forest CV score with n equals to 800 f equals to 65 is: 0.504975124378\n",
      "Random forest CV score with n equals to 900 f equals to 65 is: 0.506633499171\n",
      "Random forest CV score with n equals to 100 f equals to 70 is: 0.514096185738\n",
      "Random forest CV score with n equals to 200 f equals to 70 is: 0.504975124378\n",
      "Random forest CV score with n equals to 300 f equals to 70 is: 0.508291873964\n",
      "Random forest CV score with n equals to 400 f equals to 70 is: 0.507462686567\n",
      "Random forest CV score with n equals to 500 f equals to 70 is: 0.495854063018\n",
      "Random forest CV score with n equals to 600 f equals to 70 is: 0.487562189055\n",
      "Random forest CV score with n equals to 700 f equals to 70 is: 0.488391376451\n",
      "Random forest CV score with n equals to 800 f equals to 70 is: 0.497512437811\n",
      "Random forest CV score with n equals to 900 f equals to 70 is: 0.499170812604\n",
      "Random forest CV score with n equals to 100 f equals to 75 is: 0.507462686567\n",
      "Random forest CV score with n equals to 200 f equals to 75 is: 0.513266998342\n",
      "Random forest CV score with n equals to 300 f equals to 75 is: 0.510779436153\n",
      "Random forest CV score with n equals to 400 f equals to 75 is: 0.504975124378\n",
      "Random forest CV score with n equals to 500 f equals to 75 is: 0.517412935323\n",
      "Random forest CV score with n equals to 600 f equals to 75 is: 0.50912106136\n",
      "Random forest CV score with n equals to 700 f equals to 75 is: 0.502487562189\n",
      "Random forest CV score with n equals to 800 f equals to 75 is: 0.512437810945\n",
      "Random forest CV score with n equals to 900 f equals to 75 is: 0.509950248756\n",
      "Random forest CV score with n equals to 100 f equals to 80 is: 0.512437810945\n",
      "Random forest CV score with n equals to 200 f equals to 80 is: 0.509950248756\n",
      "Random forest CV score with n equals to 300 f equals to 80 is: 0.508291873964\n",
      "Random forest CV score with n equals to 400 f equals to 80 is: 0.514096185738\n",
      "Random forest CV score with n equals to 500 f equals to 80 is: 0.516583747927\n",
      "Random forest CV score with n equals to 600 f equals to 80 is: 0.516583747927\n",
      "Random forest CV score with n equals to 700 f equals to 80 is: 0.507462686567\n",
      "Random forest CV score with n equals to 800 f equals to 80 is: 0.513266998342\n",
      "Random forest CV score with n equals to 900 f equals to 80 is: 0.507462686567\n",
      "Random forest CV score with n equals to 100 f equals to 85 is: 0.511608623549\n",
      "Random forest CV score with n equals to 200 f equals to 85 is: 0.509950248756\n",
      "Random forest CV score with n equals to 300 f equals to 85 is: 0.504145936982\n",
      "Random forest CV score with n equals to 400 f equals to 85 is: 0.505804311774\n",
      "Random forest CV score with n equals to 500 f equals to 85 is: 0.506633499171\n",
      "Random forest CV score with n equals to 600 f equals to 85 is: 0.504145936982\n",
      "Random forest CV score with n equals to 700 f equals to 85 is: 0.502487562189\n",
      "Random forest CV score with n equals to 800 f equals to 85 is: 0.500829187396\n",
      "Random forest CV score with n equals to 900 f equals to 85 is: 0.504145936982\n",
      "Random forest CV score with n equals to 100 f equals to 90 is: 0.5\n",
      "Random forest CV score with n equals to 200 f equals to 90 is: 0.519071310116\n",
      "Random forest CV score with n equals to 300 f equals to 90 is: 0.514096185738\n",
      "Random forest CV score with n equals to 400 f equals to 90 is: 0.519900497512\n",
      "Random forest CV score with n equals to 500 f equals to 90 is: 0.51824212272\n",
      "Random forest CV score with n equals to 600 f equals to 90 is: 0.514096185738\n",
      "Random forest CV score with n equals to 700 f equals to 90 is: 0.509950248756\n",
      "Random forest CV score with n equals to 800 f equals to 90 is: 0.50912106136\n",
      "Random forest CV score with n equals to 900 f equals to 90 is: 0.504145936982\n",
      "Random forest CV score with n equals to 100 f equals to 95 is: 0.491708126036\n",
      "Random forest CV score with n equals to 200 f equals to 95 is: 0.499170812604\n",
      "Random forest CV score with n equals to 300 f equals to 95 is: 0.500829187396\n",
      "Random forest CV score with n equals to 400 f equals to 95 is: 0.514925373134\n",
      "Random forest CV score with n equals to 500 f equals to 95 is: 0.505804311774\n",
      "Random forest CV score with n equals to 600 f equals to 95 is: 0.503316749585\n",
      "Random forest CV score with n equals to 700 f equals to 95 is: 0.506633499171\n",
      "Random forest CV score with n equals to 800 f equals to 95 is: 0.511608623549\n",
      "Random forest CV score with n equals to 900 f equals to 95 is: 0.508291873964\n",
      "Random forest CV score with n equals to 100 f equals to 100 is: 0.510779436153\n",
      "Random forest CV score with n equals to 200 f equals to 100 is: 0.519071310116\n",
      "Random forest CV score with n equals to 300 f equals to 100 is: 0.516583747927\n",
      "Random forest CV score with n equals to 400 f equals to 100 is: 0.523217247098\n",
      "Random forest CV score with n equals to 500 f equals to 100 is: 0.523217247098\n",
      "Random forest CV score with n equals to 600 f equals to 100 is: 0.516583747927\n",
      "Random forest CV score with n equals to 700 f equals to 100 is: 0.514925373134\n",
      "Random forest CV score with n equals to 800 f equals to 100 is: 0.519900497512\n",
      "Random forest CV score with n equals to 900 f equals to 100 is: 0.515754560531\n"
     ]
    }
   ],
   "source": [
    "from collections import defaultdict\n",
    "grid_score = defaultdict(float)\n",
    "for f in range(5,105,5):\n",
    "    for n in range(100,1000,100):\n",
    "        forest = RandomForestClassifier(n_estimators = n, max_features=f, random_state=123456)\n",
    "        forest = forest.fit(x_train_1,y_train)\n",
    "        score = cross_val_score(forest, x_train_1, y_train, cv=TimeSeriesSplit(n_splits=3),n_jobs=-1).mean()\n",
    "        print(\"Random forest CV score with n equals to {}\".format(n),\"f equals to {}\".format(f),\"is:\", score)\n",
    "        grid_score[(f,n)] = score"
   ]
  },
  {
   "cell_type": "code",
   "execution_count": 384,
   "metadata": {
    "collapsed": false
   },
   "outputs": [],
   "source": [
    "#sorted(grid_score, key=grid_score.get, reverse=True) #<--sort by the value\n",
    "\n",
    "#Best combination:\n",
    "    #n_estimators --> 500\n",
    "    #max feature --> 100"
   ]
  },
  {
   "cell_type": "code",
   "execution_count": 387,
   "metadata": {
    "collapsed": false
   },
   "outputs": [],
   "source": [
    "forest = RandomForestClassifier(n_estimators = 500, max_features=100, random_state=123456)\n",
    "forest = forest.fit(x_train_1,y_train)"
   ]
  },
  {
   "cell_type": "code",
   "execution_count": 388,
   "metadata": {
    "collapsed": false
   },
   "outputs": [
    {
     "name": "stdout",
     "output_type": "stream",
     "text": [
      "Tuned random forest accuracy is:  0.449735449735\n",
      "Tuned random forest auc is:  0.447664650538\n"
     ]
    }
   ],
   "source": [
    "pred_rf = forest.predict(x_test_1)\n",
    "print(\"Tuned random forest accuracy is: \", metrics.accuracy_score(y_test, pred_rf)) \n",
    "\n",
    "fpr, tpr, thresholds = metrics.roc_curve(y_test, pred_rf)\n",
    "print(\"Tuned random forest auc is: \",metrics.auc(fpr, tpr))"
   ]
  },
  {
   "cell_type": "markdown",
   "metadata": {},
   "source": [
    "###  Logistic regression: tune C"
   ]
  },
  {
   "cell_type": "code",
   "execution_count": 399,
   "metadata": {
    "collapsed": false
   },
   "outputs": [
    {
     "name": "stdout",
     "output_type": "stream",
     "text": [
      "Logistic regression CV score with C equal to 0.001 is: 0.455223880597\n",
      "Logistic regression CV score with C equal to 0.01 is: 0.455223880597\n",
      "Logistic regression CV score with C equal to 0.1 is: 0.544776119403\n",
      "Logistic regression CV score with C equal to 1 is: 0.544776119403\n",
      "Logistic regression CV score with C equal to 10 is: 0.528192371476\n",
      "Logistic regression CV score with C equal to 100 is: 0.51824212272\n",
      "Logistic regression CV score with C equal to 1000 is: 0.524875621891\n"
     ]
    }
   ],
   "source": [
    "C = [1e-3,1e-2,1e-1,1,10,100,1000]\n",
    "for c in C:\n",
    "    logistic = LogisticRegression(C = c, penalty=\"l1\",random_state=123456)\n",
    "    logistic = logistic.fit(x_train_1,y_train)\n",
    "    score = cross_val_score(logistic, x_train_1, y_train, cv=TimeSeriesSplit(n_splits=3),n_jobs=-1).mean()\n",
    "    print(\"Logistic regression CV score with C equal to {}\".format(c),\"is:\", score)\n",
    "#Use C=0.1 or 1"
   ]
  },
  {
   "cell_type": "code",
   "execution_count": 403,
   "metadata": {
    "collapsed": false
   },
   "outputs": [
    {
     "name": "stdout",
     "output_type": "stream",
     "text": [
      "Tuned logistic regression accuracy is:  0.507936507937\n",
      "Tuned logistic regression auc is:  0.5\n"
     ]
    }
   ],
   "source": [
    "logistic = LogisticRegression(C = .1, penalty=\"l1\",random_state=123456)\n",
    "logistic = logistic.fit(x_train_1,y_train)\n",
    "\n",
    "pred_log = logistic.predict(x_test_1)\n",
    "print(\"Tuned logistic regression accuracy is: \",metrics.accuracy_score(y_test, pred_log)) \n",
    "\n",
    "fpr, tpr, thresholds = metrics.roc_curve(y_test, pred_log)\n",
    "print(\"Tuned logistic regression auc is: \",metrics.auc(fpr, tpr))"
   ]
  },
  {
   "cell_type": "code",
   "execution_count": null,
   "metadata": {
    "collapsed": true
   },
   "outputs": [],
   "source": []
  }
 ],
 "metadata": {
  "anaconda-cloud": {},
  "kernelspec": {
   "display_name": "Python [default]",
   "language": "python",
   "name": "python3"
  },
  "language_info": {
   "codemirror_mode": {
    "name": "ipython",
    "version": 3
   },
   "file_extension": ".py",
   "mimetype": "text/x-python",
   "name": "python",
   "nbconvert_exporter": "python",
   "pygments_lexer": "ipython3",
   "version": "3.5.2"
  }
 },
 "nbformat": 4,
 "nbformat_minor": 1
}
